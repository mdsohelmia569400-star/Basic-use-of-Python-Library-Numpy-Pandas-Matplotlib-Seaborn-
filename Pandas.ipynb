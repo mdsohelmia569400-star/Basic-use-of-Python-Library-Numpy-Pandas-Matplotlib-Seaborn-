{
  "nbformat": 4,
  "nbformat_minor": 0,
  "metadata": {
    "colab": {
      "provenance": []
    },
    "kernelspec": {
      "name": "python3",
      "display_name": "Python 3"
    },
    "language_info": {
      "name": "python"
    }
  },
  "cells": [
    {
      "cell_type": "code",
      "execution_count": null,
      "metadata": {
        "id": "Ct6sMsUvdaY8"
      },
      "outputs": [],
      "source": [
        "import pandas as pd"
      ]
    },
    {
      "cell_type": "code",
      "source": [
        "Data = {\n",
        "\n",
        "    'name': ['kamal','hossain','rana','rohaman','amir'],\n",
        "    'roll' : [1,2,3,4,5],\n",
        "    'salary':[10000,20000,30000,40000,50000]\n",
        "\n",
        "}\n",
        "\n",
        "\n",
        "\n",
        "df = pd.DataFrame(Data)\n",
        "\n",
        "print(df)"
      ],
      "metadata": {
        "colab": {
          "base_uri": "https://localhost:8080/"
        },
        "id": "wOX1d9Tddj1A",
        "outputId": "35f9a85d-7f49-421e-a5e8-787afcaf4f4a"
      },
      "execution_count": null,
      "outputs": [
        {
          "output_type": "stream",
          "name": "stdout",
          "text": [
            "      name  roll  salary\n",
            "0    kamal     1   10000\n",
            "1  hossain     2   20000\n",
            "2     rana     3   30000\n",
            "3  rohaman     4   40000\n",
            "4     amir     5   50000\n"
          ]
        }
      ]
    },
    {
      "cell_type": "code",
      "source": [
        "df = pd.read_csv('titanic.csv')\n",
        "\n",
        "print(df)"
      ],
      "metadata": {
        "colab": {
          "base_uri": "https://localhost:8080/"
        },
        "id": "6Cbed3nZeb9y",
        "outputId": "74471282-6b7c-4ebb-bf92-e05c5add0889"
      },
      "execution_count": null,
      "outputs": [
        {
          "output_type": "stream",
          "name": "stdout",
          "text": [
            "     Survived  Pclass                                               Name  \\\n",
            "0           0       3                             Mr. Owen Harris Braund   \n",
            "1           1       1  Mrs. John Bradley (Florence Briggs Thayer) Cum...   \n",
            "2           1       3                              Miss. Laina Heikkinen   \n",
            "3           1       1        Mrs. Jacques Heath (Lily May Peel) Futrelle   \n",
            "4           0       3                            Mr. William Henry Allen   \n",
            "..        ...     ...                                                ...   \n",
            "882         0       2                               Rev. Juozas Montvila   \n",
            "883         1       1                        Miss. Margaret Edith Graham   \n",
            "884         0       3                     Miss. Catherine Helen Johnston   \n",
            "885         1       1                               Mr. Karl Howell Behr   \n",
            "886         0       3                                 Mr. Patrick Dooley   \n",
            "\n",
            "        Sex   Age  Siblings/Spouses Aboard  Parents/Children Aboard     Fare  \n",
            "0      male  22.0                        1                        0   7.2500  \n",
            "1    female  38.0                        1                        0  71.2833  \n",
            "2    female  26.0                        0                        0   7.9250  \n",
            "3    female  35.0                        1                        0  53.1000  \n",
            "4      male  35.0                        0                        0   8.0500  \n",
            "..      ...   ...                      ...                      ...      ...  \n",
            "882    male  27.0                        0                        0  13.0000  \n",
            "883  female  19.0                        0                        0  30.0000  \n",
            "884  female   7.0                        1                        2  23.4500  \n",
            "885    male  26.0                        0                        0  30.0000  \n",
            "886    male  32.0                        0                        0   7.7500  \n",
            "\n",
            "[887 rows x 8 columns]\n"
          ]
        }
      ]
    },
    {
      "cell_type": "code",
      "source": [],
      "metadata": {
        "id": "X4xob-qfft8g"
      },
      "execution_count": null,
      "outputs": []
    },
    {
      "cell_type": "code",
      "source": [
        "df1 = pd.read_excel('ddt.xlsx')\n",
        "\n",
        "print(df1)"
      ],
      "metadata": {
        "colab": {
          "base_uri": "https://localhost:8080/"
        },
        "id": "w_FakC21fuWl",
        "outputId": "8f3fb606-26ab-4040-ddad-08b62f6cd34d"
      },
      "execution_count": null,
      "outputs": [
        {
          "output_type": "stream",
          "name": "stdout",
          "text": [
            "                       Country  Year   Rank  Total  S1: Demographic Pressures  \\\n",
            "0                      Somalia  2023    1st  111.9                       10.0   \n",
            "1                        Yemen  2023    2nd  108.9                        9.6   \n",
            "2                  South Sudan  2023    3rd  108.5                        9.7   \n",
            "3    Congo Democratic Republic  2023    4th  107.2                        9.7   \n",
            "4                        Syria  2023    5th  107.1                        7.4   \n",
            "..                         ...   ...    ...    ...                        ...   \n",
            "174                Switzerland  2023  175th   17.8                        2.4   \n",
            "175                New Zealand  2023  176th   16.7                        1.1   \n",
            "176                    Finland  2023  177th   16.0                        1.7   \n",
            "177                    Iceland  2023  178th   15.7                        1.5   \n",
            "178                     Norway  2023  179th   14.5                        1.4   \n",
            "\n",
            "     S2: Refugees and IDPs  C3: Group Grievance  \\\n",
            "0                      9.0                  8.7   \n",
            "1                      9.6                  8.8   \n",
            "2                     10.0                  8.6   \n",
            "3                      9.8                  9.4   \n",
            "4                      9.1                  9.1   \n",
            "..                     ...                  ...   \n",
            "174                    3.2                  2.1   \n",
            "175                    1.2                  2.0   \n",
            "176                    1.9                  0.3   \n",
            "177                    1.5                  0.5   \n",
            "178                    1.7                  3.1   \n",
            "\n",
            "     E3: Human Flight and Brain Drain  E2: Economic Inequality  E1: Economy  \\\n",
            "0                                 8.6                      9.1          9.5   \n",
            "1                                 6.4                      7.9          9.9   \n",
            "2                                 6.5                      8.6          8.6   \n",
            "3                                 6.4                      8.4          8.1   \n",
            "4                                 8.0                      6.5          9.6   \n",
            "..                                ...                      ...          ...   \n",
            "174                               1.0                      2.4          1.6   \n",
            "175                               1.6                      2.6          2.6   \n",
            "176                               1.5                      1.6          2.7   \n",
            "177                               1.6                      1.5          2.6   \n",
            "178                               0.7                      1.4          1.4   \n",
            "\n",
            "     P1: State Legitimacy  P2: Public Services  P3: Human Rights  \\\n",
            "0                     9.6                  9.8               9.0   \n",
            "1                     9.8                  9.6               9.6   \n",
            "2                     9.8                  9.7               8.7   \n",
            "3                     9.3                  9.3               9.3   \n",
            "4                    10.0                  9.0               9.1   \n",
            "..                    ...                  ...               ...   \n",
            "174                   0.3                  1.6               0.4   \n",
            "175                   0.5                  1.1               0.5   \n",
            "176                   0.4                  1.0               0.5   \n",
            "177                   0.4                  0.9               0.4   \n",
            "178                   0.4                  1.0               0.4   \n",
            "\n",
            "     C1: Security Apparatus  C2: Factionalized Elites  \\\n",
            "0                       9.5                      10.0   \n",
            "1                       8.6                       9.9   \n",
            "2                       9.9                       9.2   \n",
            "3                       8.8                       9.6   \n",
            "4                       9.4                       9.9   \n",
            "..                      ...                       ...   \n",
            "174                     1.4                       1.0   \n",
            "175                     1.6                       1.4   \n",
            "176                     2.0                       1.4   \n",
            "177                     0.4                       1.8   \n",
            "178                     1.4                       1.1   \n",
            "\n",
            "     X1: External Intervention  \n",
            "0                          9.1  \n",
            "1                          9.2  \n",
            "2                          9.2  \n",
            "3                          9.1  \n",
            "4                         10.0  \n",
            "..                         ...  \n",
            "174                        0.4  \n",
            "175                        0.5  \n",
            "176                        1.0  \n",
            "177                        2.6  \n",
            "178                        0.5  \n",
            "\n",
            "[179 rows x 16 columns]\n"
          ]
        }
      ]
    },
    {
      "cell_type": "code",
      "source": [
        "df1.head(10)"
      ],
      "metadata": {
        "colab": {
          "base_uri": "https://localhost:8080/",
          "height": 556
        },
        "id": "vHM_Q9c0fur2",
        "outputId": "4a4ee4b9-d8a3-4300-c1ce-8de05711d827"
      },
      "execution_count": null,
      "outputs": [
        {
          "output_type": "execute_result",
          "data": {
            "text/plain": [
              "                     Country  Year  Rank  Total  S1: Demographic Pressures  \\\n",
              "0                    Somalia  2023   1st  111.9                       10.0   \n",
              "1                      Yemen  2023   2nd  108.9                        9.6   \n",
              "2                South Sudan  2023   3rd  108.5                        9.7   \n",
              "3  Congo Democratic Republic  2023   4th  107.2                        9.7   \n",
              "4                      Syria  2023   5th  107.1                        7.4   \n",
              "5                Afghanistan  2023   6th  106.6                        9.2   \n",
              "6                      Sudan  2023   7th  106.2                        8.8   \n",
              "7   Central African Republic  2023   8th  105.7                        9.3   \n",
              "8                       Chad  2023   9th  104.6                        9.5   \n",
              "9                      Haiti  2023  10th  102.9                        8.8   \n",
              "\n",
              "   S2: Refugees and IDPs  C3: Group Grievance  \\\n",
              "0                    9.0                  8.7   \n",
              "1                    9.6                  8.8   \n",
              "2                   10.0                  8.6   \n",
              "3                    9.8                  9.4   \n",
              "4                    9.1                  9.1   \n",
              "5                    8.6                  8.3   \n",
              "6                    9.6                  9.3   \n",
              "7                    9.5                  8.1   \n",
              "8                    9.0                  8.1   \n",
              "9                    7.7                  5.5   \n",
              "\n",
              "   E3: Human Flight and Brain Drain  E2: Economic Inequality  E1: Economy  \\\n",
              "0                               8.6                      9.1          9.5   \n",
              "1                               6.4                      7.9          9.9   \n",
              "2                               6.5                      8.6          8.6   \n",
              "3                               6.4                      8.4          8.1   \n",
              "4                               8.0                      6.5          9.6   \n",
              "5                               8.5                      8.2          9.6   \n",
              "6                               7.5                      8.5          9.3   \n",
              "7                               6.2                      9.6          8.2   \n",
              "8                               7.7                      8.7          8.4   \n",
              "9                               8.3                      9.2          8.9   \n",
              "\n",
              "   P1: State Legitimacy  P2: Public Services  P3: Human Rights  \\\n",
              "0                   9.6                  9.8               9.0   \n",
              "1                   9.8                  9.6               9.6   \n",
              "2                   9.8                  9.7               8.7   \n",
              "3                   9.3                  9.3               9.3   \n",
              "4                  10.0                  9.0               9.1   \n",
              "5                   9.4                 10.0               8.7   \n",
              "6                   9.4                  8.6               9.2   \n",
              "7                   8.9                 10.0               9.1   \n",
              "8                   9.1                  9.6               8.4   \n",
              "9                   9.9                  9.8               8.7   \n",
              "\n",
              "   C1: Security Apparatus  C2: Factionalized Elites  X1: External Intervention  \n",
              "0                     9.5                      10.0                        9.1  \n",
              "1                     8.6                       9.9                        9.2  \n",
              "2                     9.9                       9.2                        9.2  \n",
              "3                     8.8                       9.6                        9.1  \n",
              "4                     9.4                       9.9                       10.0  \n",
              "5                     9.7                       8.7                        7.7  \n",
              "6                     8.3                       9.6                        8.1  \n",
              "7                     8.0                       9.4                        9.4  \n",
              "8                     8.7                       9.5                        7.9  \n",
              "9                     6.8                       9.7                        9.6  "
            ],
            "text/html": [
              "\n",
              "  <div id=\"df-f7473b01-b8ec-468c-a30d-fc926b13fe3b\" class=\"colab-df-container\">\n",
              "    <div>\n",
              "<style scoped>\n",
              "    .dataframe tbody tr th:only-of-type {\n",
              "        vertical-align: middle;\n",
              "    }\n",
              "\n",
              "    .dataframe tbody tr th {\n",
              "        vertical-align: top;\n",
              "    }\n",
              "\n",
              "    .dataframe thead th {\n",
              "        text-align: right;\n",
              "    }\n",
              "</style>\n",
              "<table border=\"1\" class=\"dataframe\">\n",
              "  <thead>\n",
              "    <tr style=\"text-align: right;\">\n",
              "      <th></th>\n",
              "      <th>Country</th>\n",
              "      <th>Year</th>\n",
              "      <th>Rank</th>\n",
              "      <th>Total</th>\n",
              "      <th>S1: Demographic Pressures</th>\n",
              "      <th>S2: Refugees and IDPs</th>\n",
              "      <th>C3: Group Grievance</th>\n",
              "      <th>E3: Human Flight and Brain Drain</th>\n",
              "      <th>E2: Economic Inequality</th>\n",
              "      <th>E1: Economy</th>\n",
              "      <th>P1: State Legitimacy</th>\n",
              "      <th>P2: Public Services</th>\n",
              "      <th>P3: Human Rights</th>\n",
              "      <th>C1: Security Apparatus</th>\n",
              "      <th>C2: Factionalized Elites</th>\n",
              "      <th>X1: External Intervention</th>\n",
              "    </tr>\n",
              "  </thead>\n",
              "  <tbody>\n",
              "    <tr>\n",
              "      <th>0</th>\n",
              "      <td>Somalia</td>\n",
              "      <td>2023</td>\n",
              "      <td>1st</td>\n",
              "      <td>111.9</td>\n",
              "      <td>10.0</td>\n",
              "      <td>9.0</td>\n",
              "      <td>8.7</td>\n",
              "      <td>8.6</td>\n",
              "      <td>9.1</td>\n",
              "      <td>9.5</td>\n",
              "      <td>9.6</td>\n",
              "      <td>9.8</td>\n",
              "      <td>9.0</td>\n",
              "      <td>9.5</td>\n",
              "      <td>10.0</td>\n",
              "      <td>9.1</td>\n",
              "    </tr>\n",
              "    <tr>\n",
              "      <th>1</th>\n",
              "      <td>Yemen</td>\n",
              "      <td>2023</td>\n",
              "      <td>2nd</td>\n",
              "      <td>108.9</td>\n",
              "      <td>9.6</td>\n",
              "      <td>9.6</td>\n",
              "      <td>8.8</td>\n",
              "      <td>6.4</td>\n",
              "      <td>7.9</td>\n",
              "      <td>9.9</td>\n",
              "      <td>9.8</td>\n",
              "      <td>9.6</td>\n",
              "      <td>9.6</td>\n",
              "      <td>8.6</td>\n",
              "      <td>9.9</td>\n",
              "      <td>9.2</td>\n",
              "    </tr>\n",
              "    <tr>\n",
              "      <th>2</th>\n",
              "      <td>South Sudan</td>\n",
              "      <td>2023</td>\n",
              "      <td>3rd</td>\n",
              "      <td>108.5</td>\n",
              "      <td>9.7</td>\n",
              "      <td>10.0</td>\n",
              "      <td>8.6</td>\n",
              "      <td>6.5</td>\n",
              "      <td>8.6</td>\n",
              "      <td>8.6</td>\n",
              "      <td>9.8</td>\n",
              "      <td>9.7</td>\n",
              "      <td>8.7</td>\n",
              "      <td>9.9</td>\n",
              "      <td>9.2</td>\n",
              "      <td>9.2</td>\n",
              "    </tr>\n",
              "    <tr>\n",
              "      <th>3</th>\n",
              "      <td>Congo Democratic Republic</td>\n",
              "      <td>2023</td>\n",
              "      <td>4th</td>\n",
              "      <td>107.2</td>\n",
              "      <td>9.7</td>\n",
              "      <td>9.8</td>\n",
              "      <td>9.4</td>\n",
              "      <td>6.4</td>\n",
              "      <td>8.4</td>\n",
              "      <td>8.1</td>\n",
              "      <td>9.3</td>\n",
              "      <td>9.3</td>\n",
              "      <td>9.3</td>\n",
              "      <td>8.8</td>\n",
              "      <td>9.6</td>\n",
              "      <td>9.1</td>\n",
              "    </tr>\n",
              "    <tr>\n",
              "      <th>4</th>\n",
              "      <td>Syria</td>\n",
              "      <td>2023</td>\n",
              "      <td>5th</td>\n",
              "      <td>107.1</td>\n",
              "      <td>7.4</td>\n",
              "      <td>9.1</td>\n",
              "      <td>9.1</td>\n",
              "      <td>8.0</td>\n",
              "      <td>6.5</td>\n",
              "      <td>9.6</td>\n",
              "      <td>10.0</td>\n",
              "      <td>9.0</td>\n",
              "      <td>9.1</td>\n",
              "      <td>9.4</td>\n",
              "      <td>9.9</td>\n",
              "      <td>10.0</td>\n",
              "    </tr>\n",
              "    <tr>\n",
              "      <th>5</th>\n",
              "      <td>Afghanistan</td>\n",
              "      <td>2023</td>\n",
              "      <td>6th</td>\n",
              "      <td>106.6</td>\n",
              "      <td>9.2</td>\n",
              "      <td>8.6</td>\n",
              "      <td>8.3</td>\n",
              "      <td>8.5</td>\n",
              "      <td>8.2</td>\n",
              "      <td>9.6</td>\n",
              "      <td>9.4</td>\n",
              "      <td>10.0</td>\n",
              "      <td>8.7</td>\n",
              "      <td>9.7</td>\n",
              "      <td>8.7</td>\n",
              "      <td>7.7</td>\n",
              "    </tr>\n",
              "    <tr>\n",
              "      <th>6</th>\n",
              "      <td>Sudan</td>\n",
              "      <td>2023</td>\n",
              "      <td>7th</td>\n",
              "      <td>106.2</td>\n",
              "      <td>8.8</td>\n",
              "      <td>9.6</td>\n",
              "      <td>9.3</td>\n",
              "      <td>7.5</td>\n",
              "      <td>8.5</td>\n",
              "      <td>9.3</td>\n",
              "      <td>9.4</td>\n",
              "      <td>8.6</td>\n",
              "      <td>9.2</td>\n",
              "      <td>8.3</td>\n",
              "      <td>9.6</td>\n",
              "      <td>8.1</td>\n",
              "    </tr>\n",
              "    <tr>\n",
              "      <th>7</th>\n",
              "      <td>Central African Republic</td>\n",
              "      <td>2023</td>\n",
              "      <td>8th</td>\n",
              "      <td>105.7</td>\n",
              "      <td>9.3</td>\n",
              "      <td>9.5</td>\n",
              "      <td>8.1</td>\n",
              "      <td>6.2</td>\n",
              "      <td>9.6</td>\n",
              "      <td>8.2</td>\n",
              "      <td>8.9</td>\n",
              "      <td>10.0</td>\n",
              "      <td>9.1</td>\n",
              "      <td>8.0</td>\n",
              "      <td>9.4</td>\n",
              "      <td>9.4</td>\n",
              "    </tr>\n",
              "    <tr>\n",
              "      <th>8</th>\n",
              "      <td>Chad</td>\n",
              "      <td>2023</td>\n",
              "      <td>9th</td>\n",
              "      <td>104.6</td>\n",
              "      <td>9.5</td>\n",
              "      <td>9.0</td>\n",
              "      <td>8.1</td>\n",
              "      <td>7.7</td>\n",
              "      <td>8.7</td>\n",
              "      <td>8.4</td>\n",
              "      <td>9.1</td>\n",
              "      <td>9.6</td>\n",
              "      <td>8.4</td>\n",
              "      <td>8.7</td>\n",
              "      <td>9.5</td>\n",
              "      <td>7.9</td>\n",
              "    </tr>\n",
              "    <tr>\n",
              "      <th>9</th>\n",
              "      <td>Haiti</td>\n",
              "      <td>2023</td>\n",
              "      <td>10th</td>\n",
              "      <td>102.9</td>\n",
              "      <td>8.8</td>\n",
              "      <td>7.7</td>\n",
              "      <td>5.5</td>\n",
              "      <td>8.3</td>\n",
              "      <td>9.2</td>\n",
              "      <td>8.9</td>\n",
              "      <td>9.9</td>\n",
              "      <td>9.8</td>\n",
              "      <td>8.7</td>\n",
              "      <td>6.8</td>\n",
              "      <td>9.7</td>\n",
              "      <td>9.6</td>\n",
              "    </tr>\n",
              "  </tbody>\n",
              "</table>\n",
              "</div>\n",
              "    <div class=\"colab-df-buttons\">\n",
              "\n",
              "  <div class=\"colab-df-container\">\n",
              "    <button class=\"colab-df-convert\" onclick=\"convertToInteractive('df-f7473b01-b8ec-468c-a30d-fc926b13fe3b')\"\n",
              "            title=\"Convert this dataframe to an interactive table.\"\n",
              "            style=\"display:none;\">\n",
              "\n",
              "  <svg xmlns=\"http://www.w3.org/2000/svg\" height=\"24px\" viewBox=\"0 -960 960 960\">\n",
              "    <path d=\"M120-120v-720h720v720H120Zm60-500h600v-160H180v160Zm220 220h160v-160H400v160Zm0 220h160v-160H400v160ZM180-400h160v-160H180v160Zm440 0h160v-160H620v160ZM180-180h160v-160H180v160Zm440 0h160v-160H620v160Z\"/>\n",
              "  </svg>\n",
              "    </button>\n",
              "\n",
              "  <style>\n",
              "    .colab-df-container {\n",
              "      display:flex;\n",
              "      gap: 12px;\n",
              "    }\n",
              "\n",
              "    .colab-df-convert {\n",
              "      background-color: #E8F0FE;\n",
              "      border: none;\n",
              "      border-radius: 50%;\n",
              "      cursor: pointer;\n",
              "      display: none;\n",
              "      fill: #1967D2;\n",
              "      height: 32px;\n",
              "      padding: 0 0 0 0;\n",
              "      width: 32px;\n",
              "    }\n",
              "\n",
              "    .colab-df-convert:hover {\n",
              "      background-color: #E2EBFA;\n",
              "      box-shadow: 0px 1px 2px rgba(60, 64, 67, 0.3), 0px 1px 3px 1px rgba(60, 64, 67, 0.15);\n",
              "      fill: #174EA6;\n",
              "    }\n",
              "\n",
              "    .colab-df-buttons div {\n",
              "      margin-bottom: 4px;\n",
              "    }\n",
              "\n",
              "    [theme=dark] .colab-df-convert {\n",
              "      background-color: #3B4455;\n",
              "      fill: #D2E3FC;\n",
              "    }\n",
              "\n",
              "    [theme=dark] .colab-df-convert:hover {\n",
              "      background-color: #434B5C;\n",
              "      box-shadow: 0px 1px 3px 1px rgba(0, 0, 0, 0.15);\n",
              "      filter: drop-shadow(0px 1px 2px rgba(0, 0, 0, 0.3));\n",
              "      fill: #FFFFFF;\n",
              "    }\n",
              "  </style>\n",
              "\n",
              "    <script>\n",
              "      const buttonEl =\n",
              "        document.querySelector('#df-f7473b01-b8ec-468c-a30d-fc926b13fe3b button.colab-df-convert');\n",
              "      buttonEl.style.display =\n",
              "        google.colab.kernel.accessAllowed ? 'block' : 'none';\n",
              "\n",
              "      async function convertToInteractive(key) {\n",
              "        const element = document.querySelector('#df-f7473b01-b8ec-468c-a30d-fc926b13fe3b');\n",
              "        const dataTable =\n",
              "          await google.colab.kernel.invokeFunction('convertToInteractive',\n",
              "                                                    [key], {});\n",
              "        if (!dataTable) return;\n",
              "\n",
              "        const docLinkHtml = 'Like what you see? Visit the ' +\n",
              "          '<a target=\"_blank\" href=https://colab.research.google.com/notebooks/data_table.ipynb>data table notebook</a>'\n",
              "          + ' to learn more about interactive tables.';\n",
              "        element.innerHTML = '';\n",
              "        dataTable['output_type'] = 'display_data';\n",
              "        await google.colab.output.renderOutput(dataTable, element);\n",
              "        const docLink = document.createElement('div');\n",
              "        docLink.innerHTML = docLinkHtml;\n",
              "        element.appendChild(docLink);\n",
              "      }\n",
              "    </script>\n",
              "  </div>\n",
              "\n",
              "\n",
              "<div id=\"df-f6f0bb4c-8cae-475d-a5fd-8f48912b0404\">\n",
              "  <button class=\"colab-df-quickchart\" onclick=\"quickchart('df-f6f0bb4c-8cae-475d-a5fd-8f48912b0404')\"\n",
              "            title=\"Suggest charts\"\n",
              "            style=\"display:none;\">\n",
              "\n",
              "<svg xmlns=\"http://www.w3.org/2000/svg\" height=\"24px\"viewBox=\"0 0 24 24\"\n",
              "     width=\"24px\">\n",
              "    <g>\n",
              "        <path d=\"M19 3H5c-1.1 0-2 .9-2 2v14c0 1.1.9 2 2 2h14c1.1 0 2-.9 2-2V5c0-1.1-.9-2-2-2zM9 17H7v-7h2v7zm4 0h-2V7h2v10zm4 0h-2v-4h2v4z\"/>\n",
              "    </g>\n",
              "</svg>\n",
              "  </button>\n",
              "\n",
              "<style>\n",
              "  .colab-df-quickchart {\n",
              "      --bg-color: #E8F0FE;\n",
              "      --fill-color: #1967D2;\n",
              "      --hover-bg-color: #E2EBFA;\n",
              "      --hover-fill-color: #174EA6;\n",
              "      --disabled-fill-color: #AAA;\n",
              "      --disabled-bg-color: #DDD;\n",
              "  }\n",
              "\n",
              "  [theme=dark] .colab-df-quickchart {\n",
              "      --bg-color: #3B4455;\n",
              "      --fill-color: #D2E3FC;\n",
              "      --hover-bg-color: #434B5C;\n",
              "      --hover-fill-color: #FFFFFF;\n",
              "      --disabled-bg-color: #3B4455;\n",
              "      --disabled-fill-color: #666;\n",
              "  }\n",
              "\n",
              "  .colab-df-quickchart {\n",
              "    background-color: var(--bg-color);\n",
              "    border: none;\n",
              "    border-radius: 50%;\n",
              "    cursor: pointer;\n",
              "    display: none;\n",
              "    fill: var(--fill-color);\n",
              "    height: 32px;\n",
              "    padding: 0;\n",
              "    width: 32px;\n",
              "  }\n",
              "\n",
              "  .colab-df-quickchart:hover {\n",
              "    background-color: var(--hover-bg-color);\n",
              "    box-shadow: 0 1px 2px rgba(60, 64, 67, 0.3), 0 1px 3px 1px rgba(60, 64, 67, 0.15);\n",
              "    fill: var(--button-hover-fill-color);\n",
              "  }\n",
              "\n",
              "  .colab-df-quickchart-complete:disabled,\n",
              "  .colab-df-quickchart-complete:disabled:hover {\n",
              "    background-color: var(--disabled-bg-color);\n",
              "    fill: var(--disabled-fill-color);\n",
              "    box-shadow: none;\n",
              "  }\n",
              "\n",
              "  .colab-df-spinner {\n",
              "    border: 2px solid var(--fill-color);\n",
              "    border-color: transparent;\n",
              "    border-bottom-color: var(--fill-color);\n",
              "    animation:\n",
              "      spin 1s steps(1) infinite;\n",
              "  }\n",
              "\n",
              "  @keyframes spin {\n",
              "    0% {\n",
              "      border-color: transparent;\n",
              "      border-bottom-color: var(--fill-color);\n",
              "      border-left-color: var(--fill-color);\n",
              "    }\n",
              "    20% {\n",
              "      border-color: transparent;\n",
              "      border-left-color: var(--fill-color);\n",
              "      border-top-color: var(--fill-color);\n",
              "    }\n",
              "    30% {\n",
              "      border-color: transparent;\n",
              "      border-left-color: var(--fill-color);\n",
              "      border-top-color: var(--fill-color);\n",
              "      border-right-color: var(--fill-color);\n",
              "    }\n",
              "    40% {\n",
              "      border-color: transparent;\n",
              "      border-right-color: var(--fill-color);\n",
              "      border-top-color: var(--fill-color);\n",
              "    }\n",
              "    60% {\n",
              "      border-color: transparent;\n",
              "      border-right-color: var(--fill-color);\n",
              "    }\n",
              "    80% {\n",
              "      border-color: transparent;\n",
              "      border-right-color: var(--fill-color);\n",
              "      border-bottom-color: var(--fill-color);\n",
              "    }\n",
              "    90% {\n",
              "      border-color: transparent;\n",
              "      border-bottom-color: var(--fill-color);\n",
              "    }\n",
              "  }\n",
              "</style>\n",
              "\n",
              "  <script>\n",
              "    async function quickchart(key) {\n",
              "      const quickchartButtonEl =\n",
              "        document.querySelector('#' + key + ' button');\n",
              "      quickchartButtonEl.disabled = true;  // To prevent multiple clicks.\n",
              "      quickchartButtonEl.classList.add('colab-df-spinner');\n",
              "      try {\n",
              "        const charts = await google.colab.kernel.invokeFunction(\n",
              "            'suggestCharts', [key], {});\n",
              "      } catch (error) {\n",
              "        console.error('Error during call to suggestCharts:', error);\n",
              "      }\n",
              "      quickchartButtonEl.classList.remove('colab-df-spinner');\n",
              "      quickchartButtonEl.classList.add('colab-df-quickchart-complete');\n",
              "    }\n",
              "    (() => {\n",
              "      let quickchartButtonEl =\n",
              "        document.querySelector('#df-f6f0bb4c-8cae-475d-a5fd-8f48912b0404 button');\n",
              "      quickchartButtonEl.style.display =\n",
              "        google.colab.kernel.accessAllowed ? 'block' : 'none';\n",
              "    })();\n",
              "  </script>\n",
              "</div>\n",
              "\n",
              "    </div>\n",
              "  </div>\n"
            ],
            "application/vnd.google.colaboratory.intrinsic+json": {
              "type": "dataframe",
              "variable_name": "df1",
              "summary": "{\n  \"name\": \"df1\",\n  \"rows\": 179,\n  \"fields\": [\n    {\n      \"column\": \"Country\",\n      \"properties\": {\n        \"dtype\": \"string\",\n        \"num_unique_values\": 179,\n        \"samples\": [\n          \"Georgia\",\n          \"Libya\",\n          \"Lesotho\"\n        ],\n        \"semantic_type\": \"\",\n        \"description\": \"\"\n      }\n    },\n    {\n      \"column\": \"Year\",\n      \"properties\": {\n        \"dtype\": \"number\",\n        \"std\": 0,\n        \"min\": 2023,\n        \"max\": 2023,\n        \"num_unique_values\": 1,\n        \"samples\": [\n          2023\n        ],\n        \"semantic_type\": \"\",\n        \"description\": \"\"\n      }\n    },\n    {\n      \"column\": \"Rank\",\n      \"properties\": {\n        \"dtype\": \"string\",\n        \"num_unique_values\": 179,\n        \"samples\": [\n          \"79th\"\n        ],\n        \"semantic_type\": \"\",\n        \"description\": \"\"\n      }\n    },\n    {\n      \"column\": \"Total\",\n      \"properties\": {\n        \"dtype\": \"number\",\n        \"std\": 23.966251091646775,\n        \"min\": 14.5,\n        \"max\": 111.89999999999999,\n        \"num_unique_values\": 173,\n        \"samples\": [\n          22.0\n        ],\n        \"semantic_type\": \"\",\n        \"description\": \"\"\n      }\n    },\n    {\n      \"column\": \"S1: Demographic Pressures\",\n      \"properties\": {\n        \"dtype\": \"number\",\n        \"std\": 2.27872591641618,\n        \"min\": 1.1,\n        \"max\": 10.0,\n        \"num_unique_values\": 77,\n        \"samples\": [\n          9.2\n        ],\n        \"semantic_type\": \"\",\n        \"description\": \"\"\n      }\n    },\n    {\n      \"column\": \"S2: Refugees and IDPs\",\n      \"properties\": {\n        \"dtype\": \"number\",\n        \"std\": 2.373935211558261,\n        \"min\": 0.5,\n        \"max\": 10.0,\n        \"num_unique_values\": 77,\n        \"samples\": [\n          9.1\n        ],\n        \"semantic_type\": \"\",\n        \"description\": \"\"\n      }\n    },\n    {\n      \"column\": \"C3: Group Grievance\",\n      \"properties\": {\n        \"dtype\": \"number\",\n        \"std\": 2.367757284654794,\n        \"min\": 0.3,\n        \"max\": 9.7,\n        \"num_unique_values\": 79,\n        \"samples\": [\n          5.3\n        ],\n        \"semantic_type\": \"\",\n        \"description\": \"\"\n      }\n    },\n    {\n      \"column\": \"E3: Human Flight and Brain Drain\",\n      \"properties\": {\n        \"dtype\": \"number\",\n        \"std\": 2.079590767215045,\n        \"min\": 0.4,\n        \"max\": 10.0,\n        \"num_unique_values\": 74,\n        \"samples\": [\n          8.5\n        ],\n        \"semantic_type\": \"\",\n        \"description\": \"\"\n      }\n    },\n    {\n      \"column\": \"E2: Economic Inequality\",\n      \"properties\": {\n        \"dtype\": \"number\",\n        \"std\": 2.0685464859860425,\n        \"min\": 1.4,\n        \"max\": 9.6,\n        \"num_unique_values\": 70,\n        \"samples\": [\n          6.0\n        ],\n        \"semantic_type\": \"\",\n        \"description\": \"\"\n      }\n    },\n    {\n      \"column\": \"E1: Economy\",\n      \"properties\": {\n        \"dtype\": \"number\",\n        \"std\": 2.2007409974356906,\n        \"min\": 1.0,\n        \"max\": 9.9,\n        \"num_unique_values\": 70,\n        \"samples\": [\n          9.4\n        ],\n        \"semantic_type\": \"\",\n        \"description\": \"\"\n      }\n    },\n    {\n      \"column\": \"P1: State Legitimacy\",\n      \"properties\": {\n        \"dtype\": \"number\",\n        \"std\": 2.9018534160745704,\n        \"min\": 0.3,\n        \"max\": 10.0,\n        \"num_unique_values\": 75,\n        \"samples\": [\n          9.4\n        ],\n        \"semantic_type\": \"\",\n        \"description\": \"\"\n      }\n    },\n    {\n      \"column\": \"P2: Public Services\",\n      \"properties\": {\n        \"dtype\": \"number\",\n        \"std\": 2.581298656807009,\n        \"min\": 0.9,\n        \"max\": 10.0,\n        \"num_unique_values\": 83,\n        \"samples\": [\n          3.7\n        ],\n        \"semantic_type\": \"\",\n        \"description\": \"\"\n      }\n    },\n    {\n      \"column\": \"P3: Human Rights\",\n      \"properties\": {\n        \"dtype\": \"number\",\n        \"std\": 2.602588003287848,\n        \"min\": 0.4,\n        \"max\": 9.9,\n        \"num_unique_values\": 82,\n        \"samples\": [\n          8.3\n        ],\n        \"semantic_type\": \"\",\n        \"description\": \"\"\n      }\n    },\n    {\n      \"column\": \"C1: Security Apparatus\",\n      \"properties\": {\n        \"dtype\": \"number\",\n        \"std\": 2.379810013468963,\n        \"min\": 0.3,\n        \"max\": 10.0,\n        \"num_unique_values\": 78,\n        \"samples\": [\n          5.6\n        ],\n        \"semantic_type\": \"\",\n        \"description\": \"\"\n      }\n    },\n    {\n      \"column\": \"C2: Factionalized Elites\",\n      \"properties\": {\n        \"dtype\": \"number\",\n        \"std\": 2.4278685825215818,\n        \"min\": 1.0,\n        \"max\": 10.0,\n        \"num_unique_values\": 80,\n        \"samples\": [\n          7.4\n        ],\n        \"semantic_type\": \"\",\n        \"description\": \"\"\n      }\n    },\n    {\n      \"column\": \"X1: External Intervention\",\n      \"properties\": {\n        \"dtype\": \"number\",\n        \"std\": 2.5778010130528375,\n        \"min\": 0.3,\n        \"max\": 10.0,\n        \"num_unique_values\": 77,\n        \"samples\": [\n          8.1\n        ],\n        \"semantic_type\": \"\",\n        \"description\": \"\"\n      }\n    }\n  ]\n}"
            }
          },
          "metadata": {},
          "execution_count": 5
        }
      ]
    },
    {
      "cell_type": "code",
      "source": [
        "d = df1[176:177]\n",
        "\n",
        "print(d)"
      ],
      "metadata": {
        "colab": {
          "base_uri": "https://localhost:8080/"
        },
        "id": "WWeGWhNOhNxh",
        "outputId": "04b13c7f-432b-4929-fef7-e7da0565b967"
      },
      "execution_count": null,
      "outputs": [
        {
          "output_type": "stream",
          "name": "stdout",
          "text": [
            "     Country  Year   Rank  Total  S1: Demographic Pressures  \\\n",
            "176  Finland  2023  177th   16.0                        1.7   \n",
            "\n",
            "     S2: Refugees and IDPs  C3: Group Grievance  \\\n",
            "176                    1.9                  0.3   \n",
            "\n",
            "     E3: Human Flight and Brain Drain  E2: Economic Inequality  E1: Economy  \\\n",
            "176                               1.5                      1.6          2.7   \n",
            "\n",
            "     P1: State Legitimacy  P2: Public Services  P3: Human Rights  \\\n",
            "176                   0.4                  1.0               0.5   \n",
            "\n",
            "     C1: Security Apparatus  C2: Factionalized Elites  \\\n",
            "176                     2.0                       1.4   \n",
            "\n",
            "     X1: External Intervention  \n",
            "176                        1.0  \n"
          ]
        }
      ]
    },
    {
      "cell_type": "code",
      "source": [
        "dd = df1.loc[176]\n",
        "\n",
        "print(dd)"
      ],
      "metadata": {
        "colab": {
          "base_uri": "https://localhost:8080/"
        },
        "id": "ICTC5JYkfu_V",
        "outputId": "e64a388f-5c60-47dc-ddbb-a2d8ef59ff5f"
      },
      "execution_count": null,
      "outputs": [
        {
          "output_type": "stream",
          "name": "stdout",
          "text": [
            "Country                             Finland\n",
            "Year                                   2023\n",
            "Rank                                  177th\n",
            "Total                                  16.0\n",
            "S1: Demographic Pressures               1.7\n",
            "S2: Refugees and IDPs                   1.9\n",
            "C3: Group Grievance                     0.3\n",
            "E3: Human Flight and Brain Drain        1.5\n",
            "E2: Economic Inequality                 1.6\n",
            "E1: Economy                             2.7\n",
            "P1: State Legitimacy                    0.4\n",
            "P2: Public Services                     1.0\n",
            "P3: Human Rights                        0.5\n",
            "C1: Security Apparatus                  2.0\n",
            "C2: Factionalized Elites                1.4\n",
            "X1: External Intervention               1.0\n",
            "Name: 176, dtype: object\n"
          ]
        }
      ]
    },
    {
      "cell_type": "code",
      "source": [
        "print(df1.info())"
      ],
      "metadata": {
        "colab": {
          "base_uri": "https://localhost:8080/"
        },
        "id": "NcE8LJBCfvP-",
        "outputId": "7bc2221c-1200-4811-c3ea-75f37166c546"
      },
      "execution_count": null,
      "outputs": [
        {
          "output_type": "stream",
          "name": "stdout",
          "text": [
            "<class 'pandas.core.frame.DataFrame'>\n",
            "RangeIndex: 179 entries, 0 to 178\n",
            "Data columns (total 16 columns):\n",
            " #   Column                            Non-Null Count  Dtype  \n",
            "---  ------                            --------------  -----  \n",
            " 0   Country                           179 non-null    object \n",
            " 1   Year                              179 non-null    int64  \n",
            " 2   Rank                              179 non-null    object \n",
            " 3   Total                             179 non-null    float64\n",
            " 4   S1: Demographic Pressures         179 non-null    float64\n",
            " 5   S2: Refugees and IDPs             179 non-null    float64\n",
            " 6   C3: Group Grievance               179 non-null    float64\n",
            " 7   E3: Human Flight and Brain Drain  179 non-null    float64\n",
            " 8   E2: Economic Inequality           179 non-null    float64\n",
            " 9   E1: Economy                       179 non-null    float64\n",
            " 10  P1: State Legitimacy              179 non-null    float64\n",
            " 11  P2: Public Services               179 non-null    float64\n",
            " 12  P3: Human Rights                  179 non-null    float64\n",
            " 13  C1: Security Apparatus            179 non-null    float64\n",
            " 14  C2: Factionalized Elites          179 non-null    float64\n",
            " 15  X1: External Intervention         179 non-null    float64\n",
            "dtypes: float64(13), int64(1), object(2)\n",
            "memory usage: 22.5+ KB\n",
            "None\n"
          ]
        }
      ]
    },
    {
      "cell_type": "code",
      "source": [
        "df1.describe()"
      ],
      "metadata": {
        "colab": {
          "base_uri": "https://localhost:8080/",
          "height": 372
        },
        "id": "Sk-g5x-ffvqe",
        "outputId": "5c52748f-dc5f-4ed4-e55b-d38f77823bf5"
      },
      "execution_count": null,
      "outputs": [
        {
          "output_type": "execute_result",
          "data": {
            "text/plain": [
              "         Year       Total  S1: Demographic Pressures  S2: Refugees and IDPs  \\\n",
              "count   179.0  179.000000                 179.000000             179.000000   \n",
              "mean   2023.0   65.832402                   5.955866               4.764246   \n",
              "std       0.0   23.966251                   2.278726               2.373935   \n",
              "min    2023.0   14.500000                   1.100000               0.500000   \n",
              "25%    2023.0   49.000000                   4.100000               2.800000   \n",
              "50%    2023.0   68.200000                   5.900000               4.500000   \n",
              "75%    2023.0   82.200000                   8.050000               6.450000   \n",
              "max    2023.0  111.900000                  10.000000              10.000000   \n",
              "\n",
              "       C3: Group Grievance  E3: Human Flight and Brain Drain  \\\n",
              "count           179.000000                        179.000000   \n",
              "mean              5.574860                          5.184358   \n",
              "std               2.367757                          2.079591   \n",
              "min               0.300000                          0.400000   \n",
              "25%               3.600000                          3.700000   \n",
              "50%               5.500000                          5.600000   \n",
              "75%               7.550000                          6.600000   \n",
              "max               9.700000                         10.000000   \n",
              "\n",
              "       E2: Economic Inequality  E1: Economy  P1: State Legitimacy  \\\n",
              "count               179.000000   179.000000            179.000000   \n",
              "mean                  5.323464     5.687151              5.741341   \n",
              "std                   2.068546     2.200741              2.901853   \n",
              "min                   1.400000     1.000000              0.300000   \n",
              "25%                   3.650000     4.100000              3.650000   \n",
              "50%                   5.200000     6.000000              6.400000   \n",
              "75%                   7.200000     7.150000              8.100000   \n",
              "max                   9.600000     9.900000             10.000000   \n",
              "\n",
              "       P2: Public Services  P3: Human Rights  C1: Security Apparatus  \\\n",
              "count           179.000000        179.000000              179.000000   \n",
              "mean              5.459218          5.436872                5.014525   \n",
              "std               2.581299          2.602588                2.379810   \n",
              "min               0.900000          0.400000                0.300000   \n",
              "25%               3.450000          3.600000                3.350000   \n",
              "50%               5.100000          5.700000                5.100000   \n",
              "75%               7.950000          7.500000                6.700000   \n",
              "max              10.000000          9.900000               10.000000   \n",
              "\n",
              "       C2: Factionalized Elites  X1: External Intervention  \n",
              "count                179.000000                 179.000000  \n",
              "mean                   6.618436                   5.072067  \n",
              "std                    2.427869                   2.577801  \n",
              "min                    1.000000                   0.300000  \n",
              "25%                    4.950000                   3.150000  \n",
              "50%                    7.200000                   5.300000  \n",
              "75%                    8.550000                   7.000000  \n",
              "max                   10.000000                  10.000000  "
            ],
            "text/html": [
              "\n",
              "  <div id=\"df-aefcc4d5-f66f-49d5-9477-231e711ffa55\" class=\"colab-df-container\">\n",
              "    <div>\n",
              "<style scoped>\n",
              "    .dataframe tbody tr th:only-of-type {\n",
              "        vertical-align: middle;\n",
              "    }\n",
              "\n",
              "    .dataframe tbody tr th {\n",
              "        vertical-align: top;\n",
              "    }\n",
              "\n",
              "    .dataframe thead th {\n",
              "        text-align: right;\n",
              "    }\n",
              "</style>\n",
              "<table border=\"1\" class=\"dataframe\">\n",
              "  <thead>\n",
              "    <tr style=\"text-align: right;\">\n",
              "      <th></th>\n",
              "      <th>Year</th>\n",
              "      <th>Total</th>\n",
              "      <th>S1: Demographic Pressures</th>\n",
              "      <th>S2: Refugees and IDPs</th>\n",
              "      <th>C3: Group Grievance</th>\n",
              "      <th>E3: Human Flight and Brain Drain</th>\n",
              "      <th>E2: Economic Inequality</th>\n",
              "      <th>E1: Economy</th>\n",
              "      <th>P1: State Legitimacy</th>\n",
              "      <th>P2: Public Services</th>\n",
              "      <th>P3: Human Rights</th>\n",
              "      <th>C1: Security Apparatus</th>\n",
              "      <th>C2: Factionalized Elites</th>\n",
              "      <th>X1: External Intervention</th>\n",
              "    </tr>\n",
              "  </thead>\n",
              "  <tbody>\n",
              "    <tr>\n",
              "      <th>count</th>\n",
              "      <td>179.0</td>\n",
              "      <td>179.000000</td>\n",
              "      <td>179.000000</td>\n",
              "      <td>179.000000</td>\n",
              "      <td>179.000000</td>\n",
              "      <td>179.000000</td>\n",
              "      <td>179.000000</td>\n",
              "      <td>179.000000</td>\n",
              "      <td>179.000000</td>\n",
              "      <td>179.000000</td>\n",
              "      <td>179.000000</td>\n",
              "      <td>179.000000</td>\n",
              "      <td>179.000000</td>\n",
              "      <td>179.000000</td>\n",
              "    </tr>\n",
              "    <tr>\n",
              "      <th>mean</th>\n",
              "      <td>2023.0</td>\n",
              "      <td>65.832402</td>\n",
              "      <td>5.955866</td>\n",
              "      <td>4.764246</td>\n",
              "      <td>5.574860</td>\n",
              "      <td>5.184358</td>\n",
              "      <td>5.323464</td>\n",
              "      <td>5.687151</td>\n",
              "      <td>5.741341</td>\n",
              "      <td>5.459218</td>\n",
              "      <td>5.436872</td>\n",
              "      <td>5.014525</td>\n",
              "      <td>6.618436</td>\n",
              "      <td>5.072067</td>\n",
              "    </tr>\n",
              "    <tr>\n",
              "      <th>std</th>\n",
              "      <td>0.0</td>\n",
              "      <td>23.966251</td>\n",
              "      <td>2.278726</td>\n",
              "      <td>2.373935</td>\n",
              "      <td>2.367757</td>\n",
              "      <td>2.079591</td>\n",
              "      <td>2.068546</td>\n",
              "      <td>2.200741</td>\n",
              "      <td>2.901853</td>\n",
              "      <td>2.581299</td>\n",
              "      <td>2.602588</td>\n",
              "      <td>2.379810</td>\n",
              "      <td>2.427869</td>\n",
              "      <td>2.577801</td>\n",
              "    </tr>\n",
              "    <tr>\n",
              "      <th>min</th>\n",
              "      <td>2023.0</td>\n",
              "      <td>14.500000</td>\n",
              "      <td>1.100000</td>\n",
              "      <td>0.500000</td>\n",
              "      <td>0.300000</td>\n",
              "      <td>0.400000</td>\n",
              "      <td>1.400000</td>\n",
              "      <td>1.000000</td>\n",
              "      <td>0.300000</td>\n",
              "      <td>0.900000</td>\n",
              "      <td>0.400000</td>\n",
              "      <td>0.300000</td>\n",
              "      <td>1.000000</td>\n",
              "      <td>0.300000</td>\n",
              "    </tr>\n",
              "    <tr>\n",
              "      <th>25%</th>\n",
              "      <td>2023.0</td>\n",
              "      <td>49.000000</td>\n",
              "      <td>4.100000</td>\n",
              "      <td>2.800000</td>\n",
              "      <td>3.600000</td>\n",
              "      <td>3.700000</td>\n",
              "      <td>3.650000</td>\n",
              "      <td>4.100000</td>\n",
              "      <td>3.650000</td>\n",
              "      <td>3.450000</td>\n",
              "      <td>3.600000</td>\n",
              "      <td>3.350000</td>\n",
              "      <td>4.950000</td>\n",
              "      <td>3.150000</td>\n",
              "    </tr>\n",
              "    <tr>\n",
              "      <th>50%</th>\n",
              "      <td>2023.0</td>\n",
              "      <td>68.200000</td>\n",
              "      <td>5.900000</td>\n",
              "      <td>4.500000</td>\n",
              "      <td>5.500000</td>\n",
              "      <td>5.600000</td>\n",
              "      <td>5.200000</td>\n",
              "      <td>6.000000</td>\n",
              "      <td>6.400000</td>\n",
              "      <td>5.100000</td>\n",
              "      <td>5.700000</td>\n",
              "      <td>5.100000</td>\n",
              "      <td>7.200000</td>\n",
              "      <td>5.300000</td>\n",
              "    </tr>\n",
              "    <tr>\n",
              "      <th>75%</th>\n",
              "      <td>2023.0</td>\n",
              "      <td>82.200000</td>\n",
              "      <td>8.050000</td>\n",
              "      <td>6.450000</td>\n",
              "      <td>7.550000</td>\n",
              "      <td>6.600000</td>\n",
              "      <td>7.200000</td>\n",
              "      <td>7.150000</td>\n",
              "      <td>8.100000</td>\n",
              "      <td>7.950000</td>\n",
              "      <td>7.500000</td>\n",
              "      <td>6.700000</td>\n",
              "      <td>8.550000</td>\n",
              "      <td>7.000000</td>\n",
              "    </tr>\n",
              "    <tr>\n",
              "      <th>max</th>\n",
              "      <td>2023.0</td>\n",
              "      <td>111.900000</td>\n",
              "      <td>10.000000</td>\n",
              "      <td>10.000000</td>\n",
              "      <td>9.700000</td>\n",
              "      <td>10.000000</td>\n",
              "      <td>9.600000</td>\n",
              "      <td>9.900000</td>\n",
              "      <td>10.000000</td>\n",
              "      <td>10.000000</td>\n",
              "      <td>9.900000</td>\n",
              "      <td>10.000000</td>\n",
              "      <td>10.000000</td>\n",
              "      <td>10.000000</td>\n",
              "    </tr>\n",
              "  </tbody>\n",
              "</table>\n",
              "</div>\n",
              "    <div class=\"colab-df-buttons\">\n",
              "\n",
              "  <div class=\"colab-df-container\">\n",
              "    <button class=\"colab-df-convert\" onclick=\"convertToInteractive('df-aefcc4d5-f66f-49d5-9477-231e711ffa55')\"\n",
              "            title=\"Convert this dataframe to an interactive table.\"\n",
              "            style=\"display:none;\">\n",
              "\n",
              "  <svg xmlns=\"http://www.w3.org/2000/svg\" height=\"24px\" viewBox=\"0 -960 960 960\">\n",
              "    <path d=\"M120-120v-720h720v720H120Zm60-500h600v-160H180v160Zm220 220h160v-160H400v160Zm0 220h160v-160H400v160ZM180-400h160v-160H180v160Zm440 0h160v-160H620v160ZM180-180h160v-160H180v160Zm440 0h160v-160H620v160Z\"/>\n",
              "  </svg>\n",
              "    </button>\n",
              "\n",
              "  <style>\n",
              "    .colab-df-container {\n",
              "      display:flex;\n",
              "      gap: 12px;\n",
              "    }\n",
              "\n",
              "    .colab-df-convert {\n",
              "      background-color: #E8F0FE;\n",
              "      border: none;\n",
              "      border-radius: 50%;\n",
              "      cursor: pointer;\n",
              "      display: none;\n",
              "      fill: #1967D2;\n",
              "      height: 32px;\n",
              "      padding: 0 0 0 0;\n",
              "      width: 32px;\n",
              "    }\n",
              "\n",
              "    .colab-df-convert:hover {\n",
              "      background-color: #E2EBFA;\n",
              "      box-shadow: 0px 1px 2px rgba(60, 64, 67, 0.3), 0px 1px 3px 1px rgba(60, 64, 67, 0.15);\n",
              "      fill: #174EA6;\n",
              "    }\n",
              "\n",
              "    .colab-df-buttons div {\n",
              "      margin-bottom: 4px;\n",
              "    }\n",
              "\n",
              "    [theme=dark] .colab-df-convert {\n",
              "      background-color: #3B4455;\n",
              "      fill: #D2E3FC;\n",
              "    }\n",
              "\n",
              "    [theme=dark] .colab-df-convert:hover {\n",
              "      background-color: #434B5C;\n",
              "      box-shadow: 0px 1px 3px 1px rgba(0, 0, 0, 0.15);\n",
              "      filter: drop-shadow(0px 1px 2px rgba(0, 0, 0, 0.3));\n",
              "      fill: #FFFFFF;\n",
              "    }\n",
              "  </style>\n",
              "\n",
              "    <script>\n",
              "      const buttonEl =\n",
              "        document.querySelector('#df-aefcc4d5-f66f-49d5-9477-231e711ffa55 button.colab-df-convert');\n",
              "      buttonEl.style.display =\n",
              "        google.colab.kernel.accessAllowed ? 'block' : 'none';\n",
              "\n",
              "      async function convertToInteractive(key) {\n",
              "        const element = document.querySelector('#df-aefcc4d5-f66f-49d5-9477-231e711ffa55');\n",
              "        const dataTable =\n",
              "          await google.colab.kernel.invokeFunction('convertToInteractive',\n",
              "                                                    [key], {});\n",
              "        if (!dataTable) return;\n",
              "\n",
              "        const docLinkHtml = 'Like what you see? Visit the ' +\n",
              "          '<a target=\"_blank\" href=https://colab.research.google.com/notebooks/data_table.ipynb>data table notebook</a>'\n",
              "          + ' to learn more about interactive tables.';\n",
              "        element.innerHTML = '';\n",
              "        dataTable['output_type'] = 'display_data';\n",
              "        await google.colab.output.renderOutput(dataTable, element);\n",
              "        const docLink = document.createElement('div');\n",
              "        docLink.innerHTML = docLinkHtml;\n",
              "        element.appendChild(docLink);\n",
              "      }\n",
              "    </script>\n",
              "  </div>\n",
              "\n",
              "\n",
              "<div id=\"df-db7e7216-d74f-45d4-8daa-b0521814e263\">\n",
              "  <button class=\"colab-df-quickchart\" onclick=\"quickchart('df-db7e7216-d74f-45d4-8daa-b0521814e263')\"\n",
              "            title=\"Suggest charts\"\n",
              "            style=\"display:none;\">\n",
              "\n",
              "<svg xmlns=\"http://www.w3.org/2000/svg\" height=\"24px\"viewBox=\"0 0 24 24\"\n",
              "     width=\"24px\">\n",
              "    <g>\n",
              "        <path d=\"M19 3H5c-1.1 0-2 .9-2 2v14c0 1.1.9 2 2 2h14c1.1 0 2-.9 2-2V5c0-1.1-.9-2-2-2zM9 17H7v-7h2v7zm4 0h-2V7h2v10zm4 0h-2v-4h2v4z\"/>\n",
              "    </g>\n",
              "</svg>\n",
              "  </button>\n",
              "\n",
              "<style>\n",
              "  .colab-df-quickchart {\n",
              "      --bg-color: #E8F0FE;\n",
              "      --fill-color: #1967D2;\n",
              "      --hover-bg-color: #E2EBFA;\n",
              "      --hover-fill-color: #174EA6;\n",
              "      --disabled-fill-color: #AAA;\n",
              "      --disabled-bg-color: #DDD;\n",
              "  }\n",
              "\n",
              "  [theme=dark] .colab-df-quickchart {\n",
              "      --bg-color: #3B4455;\n",
              "      --fill-color: #D2E3FC;\n",
              "      --hover-bg-color: #434B5C;\n",
              "      --hover-fill-color: #FFFFFF;\n",
              "      --disabled-bg-color: #3B4455;\n",
              "      --disabled-fill-color: #666;\n",
              "  }\n",
              "\n",
              "  .colab-df-quickchart {\n",
              "    background-color: var(--bg-color);\n",
              "    border: none;\n",
              "    border-radius: 50%;\n",
              "    cursor: pointer;\n",
              "    display: none;\n",
              "    fill: var(--fill-color);\n",
              "    height: 32px;\n",
              "    padding: 0;\n",
              "    width: 32px;\n",
              "  }\n",
              "\n",
              "  .colab-df-quickchart:hover {\n",
              "    background-color: var(--hover-bg-color);\n",
              "    box-shadow: 0 1px 2px rgba(60, 64, 67, 0.3), 0 1px 3px 1px rgba(60, 64, 67, 0.15);\n",
              "    fill: var(--button-hover-fill-color);\n",
              "  }\n",
              "\n",
              "  .colab-df-quickchart-complete:disabled,\n",
              "  .colab-df-quickchart-complete:disabled:hover {\n",
              "    background-color: var(--disabled-bg-color);\n",
              "    fill: var(--disabled-fill-color);\n",
              "    box-shadow: none;\n",
              "  }\n",
              "\n",
              "  .colab-df-spinner {\n",
              "    border: 2px solid var(--fill-color);\n",
              "    border-color: transparent;\n",
              "    border-bottom-color: var(--fill-color);\n",
              "    animation:\n",
              "      spin 1s steps(1) infinite;\n",
              "  }\n",
              "\n",
              "  @keyframes spin {\n",
              "    0% {\n",
              "      border-color: transparent;\n",
              "      border-bottom-color: var(--fill-color);\n",
              "      border-left-color: var(--fill-color);\n",
              "    }\n",
              "    20% {\n",
              "      border-color: transparent;\n",
              "      border-left-color: var(--fill-color);\n",
              "      border-top-color: var(--fill-color);\n",
              "    }\n",
              "    30% {\n",
              "      border-color: transparent;\n",
              "      border-left-color: var(--fill-color);\n",
              "      border-top-color: var(--fill-color);\n",
              "      border-right-color: var(--fill-color);\n",
              "    }\n",
              "    40% {\n",
              "      border-color: transparent;\n",
              "      border-right-color: var(--fill-color);\n",
              "      border-top-color: var(--fill-color);\n",
              "    }\n",
              "    60% {\n",
              "      border-color: transparent;\n",
              "      border-right-color: var(--fill-color);\n",
              "    }\n",
              "    80% {\n",
              "      border-color: transparent;\n",
              "      border-right-color: var(--fill-color);\n",
              "      border-bottom-color: var(--fill-color);\n",
              "    }\n",
              "    90% {\n",
              "      border-color: transparent;\n",
              "      border-bottom-color: var(--fill-color);\n",
              "    }\n",
              "  }\n",
              "</style>\n",
              "\n",
              "  <script>\n",
              "    async function quickchart(key) {\n",
              "      const quickchartButtonEl =\n",
              "        document.querySelector('#' + key + ' button');\n",
              "      quickchartButtonEl.disabled = true;  // To prevent multiple clicks.\n",
              "      quickchartButtonEl.classList.add('colab-df-spinner');\n",
              "      try {\n",
              "        const charts = await google.colab.kernel.invokeFunction(\n",
              "            'suggestCharts', [key], {});\n",
              "      } catch (error) {\n",
              "        console.error('Error during call to suggestCharts:', error);\n",
              "      }\n",
              "      quickchartButtonEl.classList.remove('colab-df-spinner');\n",
              "      quickchartButtonEl.classList.add('colab-df-quickchart-complete');\n",
              "    }\n",
              "    (() => {\n",
              "      let quickchartButtonEl =\n",
              "        document.querySelector('#df-db7e7216-d74f-45d4-8daa-b0521814e263 button');\n",
              "      quickchartButtonEl.style.display =\n",
              "        google.colab.kernel.accessAllowed ? 'block' : 'none';\n",
              "    })();\n",
              "  </script>\n",
              "</div>\n",
              "\n",
              "    </div>\n",
              "  </div>\n"
            ],
            "application/vnd.google.colaboratory.intrinsic+json": {
              "type": "dataframe",
              "summary": "{\n  \"name\": \"df1\",\n  \"rows\": 8,\n  \"fields\": [\n    {\n      \"column\": \"Year\",\n      \"properties\": {\n        \"dtype\": \"number\",\n        \"std\": 896.3141887753424,\n        \"min\": 0.0,\n        \"max\": 2023.0,\n        \"num_unique_values\": 3,\n        \"samples\": [\n          179.0,\n          2023.0,\n          0.0\n        ],\n        \"semantic_type\": \"\",\n        \"description\": \"\"\n      }\n    },\n    {\n      \"column\": \"Total\",\n      \"properties\": {\n        \"dtype\": \"number\",\n        \"std\": 52.5041244069619,\n        \"min\": 14.5,\n        \"max\": 179.0,\n        \"num_unique_values\": 8,\n        \"samples\": [\n          65.83240223463687,\n          68.19999999999999,\n          179.0\n        ],\n        \"semantic_type\": \"\",\n        \"description\": \"\"\n      }\n    },\n    {\n      \"column\": \"S1: Demographic Pressures\",\n      \"properties\": {\n        \"dtype\": \"number\",\n        \"std\": 61.4660312490417,\n        \"min\": 1.1,\n        \"max\": 179.0,\n        \"num_unique_values\": 8,\n        \"samples\": [\n          5.955865921787709,\n          5.9,\n          179.0\n        ],\n        \"semantic_type\": \"\",\n        \"description\": \"\"\n      }\n    },\n    {\n      \"column\": \"S2: Refugees and IDPs\",\n      \"properties\": {\n        \"dtype\": \"number\",\n        \"std\": 61.767279557255854,\n        \"min\": 0.5,\n        \"max\": 179.0,\n        \"num_unique_values\": 8,\n        \"samples\": [\n          4.764245810055866,\n          4.5,\n          179.0\n        ],\n        \"semantic_type\": \"\",\n        \"description\": \"\"\n      }\n    },\n    {\n      \"column\": \"C3: Group Grievance\",\n      \"properties\": {\n        \"dtype\": \"number\",\n        \"std\": 61.60861727133809,\n        \"min\": 0.3,\n        \"max\": 179.0,\n        \"num_unique_values\": 8,\n        \"samples\": [\n          5.574860335195531,\n          5.5,\n          179.0\n        ],\n        \"semantic_type\": \"\",\n        \"description\": \"\"\n      }\n    },\n    {\n      \"column\": \"E3: Human Flight and Brain Drain\",\n      \"properties\": {\n        \"dtype\": \"number\",\n        \"std\": 61.65925170504927,\n        \"min\": 0.4,\n        \"max\": 179.0,\n        \"num_unique_values\": 8,\n        \"samples\": [\n          5.184357541899441,\n          5.6,\n          179.0\n        ],\n        \"semantic_type\": \"\",\n        \"description\": \"\"\n      }\n    },\n    {\n      \"column\": \"E2: Economic Inequality\",\n      \"properties\": {\n        \"dtype\": \"number\",\n        \"std\": 61.603866050817466,\n        \"min\": 1.4,\n        \"max\": 179.0,\n        \"num_unique_values\": 8,\n        \"samples\": [\n          5.323463687150839,\n          5.2,\n          179.0\n        ],\n        \"semantic_type\": \"\",\n        \"description\": \"\"\n      }\n    },\n    {\n      \"column\": \"E1: Economy\",\n      \"properties\": {\n        \"dtype\": \"number\",\n        \"std\": 61.52928173986277,\n        \"min\": 1.0,\n        \"max\": 179.0,\n        \"num_unique_values\": 8,\n        \"samples\": [\n          5.687150837988827,\n          6.0,\n          179.0\n        ],\n        \"semantic_type\": \"\",\n        \"description\": \"\"\n      }\n    },\n    {\n      \"column\": \"P1: State Legitimacy\",\n      \"properties\": {\n        \"dtype\": \"number\",\n        \"std\": 61.48789970959137,\n        \"min\": 0.3,\n        \"max\": 179.0,\n        \"num_unique_values\": 8,\n        \"samples\": [\n          5.741340782122904,\n          6.4,\n          179.0\n        ],\n        \"semantic_type\": \"\",\n        \"description\": \"\"\n      }\n    },\n    {\n      \"column\": \"P2: Public Services\",\n      \"properties\": {\n        \"dtype\": \"number\",\n        \"std\": 61.564483350118806,\n        \"min\": 0.9,\n        \"max\": 179.0,\n        \"num_unique_values\": 8,\n        \"samples\": [\n          5.4592178770949715,\n          5.1,\n          179.0\n        ],\n        \"semantic_type\": \"\",\n        \"description\": \"\"\n      }\n    },\n    {\n      \"column\": \"P3: Human Rights\",\n      \"properties\": {\n        \"dtype\": \"number\",\n        \"std\": 61.58065503423695,\n        \"min\": 0.4,\n        \"max\": 179.0,\n        \"num_unique_values\": 8,\n        \"samples\": [\n          5.4368715083798875,\n          5.7,\n          179.0\n        ],\n        \"semantic_type\": \"\",\n        \"description\": \"\"\n      }\n    },\n    {\n      \"column\": \"C1: Security Apparatus\",\n      \"properties\": {\n        \"dtype\": \"number\",\n        \"std\": 61.69541389070455,\n        \"min\": 0.3,\n        \"max\": 179.0,\n        \"num_unique_values\": 8,\n        \"samples\": [\n          5.014525139664804,\n          5.1,\n          179.0\n        ],\n        \"semantic_type\": \"\",\n        \"description\": \"\"\n      }\n    },\n    {\n      \"column\": \"C2: Factionalized Elites\",\n      \"properties\": {\n        \"dtype\": \"number\",\n        \"std\": 61.30146637022758,\n        \"min\": 1.0,\n        \"max\": 179.0,\n        \"num_unique_values\": 8,\n        \"samples\": [\n          6.618435754189944,\n          7.2,\n          179.0\n        ],\n        \"semantic_type\": \"\",\n        \"description\": \"\"\n      }\n    },\n    {\n      \"column\": \"X1: External Intervention\",\n      \"properties\": {\n        \"dtype\": \"number\",\n        \"std\": 61.66877008727497,\n        \"min\": 0.3,\n        \"max\": 179.0,\n        \"num_unique_values\": 8,\n        \"samples\": [\n          5.0720670391061455,\n          5.3,\n          179.0\n        ],\n        \"semantic_type\": \"\",\n        \"description\": \"\"\n      }\n    }\n  ]\n}"
            }
          },
          "metadata": {},
          "execution_count": 9
        }
      ]
    },
    {
      "cell_type": "code",
      "source": [
        "print(df.isnull().sum())    #### provide column wise some of null value"
      ],
      "metadata": {
        "colab": {
          "base_uri": "https://localhost:8080/"
        },
        "id": "QGunwSxhkpDO",
        "outputId": "1f217eaa-8898-4529-a086-53105bf6d66b"
      },
      "execution_count": null,
      "outputs": [
        {
          "output_type": "stream",
          "name": "stdout",
          "text": [
            "Survived                   0\n",
            "Pclass                     0\n",
            "Name                       0\n",
            "Sex                        0\n",
            "Age                        0\n",
            "Siblings/Spouses Aboard    0\n",
            "Parents/Children Aboard    0\n",
            "Fare                       0\n",
            "dtype: int64\n"
          ]
        }
      ]
    },
    {
      "cell_type": "code",
      "source": [
        "data = {\n",
        "    'name': ['amir','rohaman','amir','nijam','nijam','kamal','kamal'],\n",
        "    'roll' : [3,2,3,3,4,5,5],\n",
        "    'salary':[30000,20000,30000,40000,40000,50000,50000]\n",
        "}\n",
        "\n",
        "\n",
        "\n",
        "\n",
        "fd = pd.DataFrame(data)\n",
        "\n",
        "print(fd)"
      ],
      "metadata": {
        "colab": {
          "base_uri": "https://localhost:8080/"
        },
        "id": "WG_es2bXfwGN",
        "outputId": "a1d82534-6942-4dd9-b6f7-821a6759537f"
      },
      "execution_count": null,
      "outputs": [
        {
          "output_type": "stream",
          "name": "stdout",
          "text": [
            "      name  roll  salary\n",
            "0     amir     3   30000\n",
            "1  rohaman     2   20000\n",
            "2     amir     3   30000\n",
            "3    nijam     3   40000\n",
            "4    nijam     4   40000\n",
            "5    kamal     5   50000\n",
            "6    kamal     5   50000\n"
          ]
        }
      ]
    },
    {
      "cell_type": "code",
      "source": [
        "dd= pd.read_excel('for.xlsx')"
      ],
      "metadata": {
        "id": "LscdjggmnRsK"
      },
      "execution_count": null,
      "outputs": []
    },
    {
      "cell_type": "code",
      "source": [
        "print(dd)"
      ],
      "metadata": {
        "id": "-x5pagN3nX3K",
        "colab": {
          "base_uri": "https://localhost:8080/"
        },
        "outputId": "f7c67ffd-ac91-4fac-afec-69bbe67d9cfd"
      },
      "execution_count": null,
      "outputs": [
        {
          "output_type": "stream",
          "name": "stdout",
          "text": [
            "    id     name  class  age  bonous first name last name  salary\n",
            "0   11    kamal      1   23    0.15     aboul        mia   20000\n",
            "1   22    jamal      2   24    0.30      kalam       mia   30000\n",
            "2   33  hossain      3   25    0.00      niyaj       mia   40000\n",
            "3   44  rohaman      4   26    0.40     faraji       mia   50000\n",
            "4   11    kamal      1   23    0.60      habib       mia   60000\n",
            "5   55     amir      5   28    0.60      karim       mia   70000\n",
            "6   55     amir      5   28    0.20       amin       mia   80000\n",
            "7   66    jamir      6   30    0.00      rohim       mia   90000\n",
            "8   67   tamim       7   25    0.00    rohoman       mia   30000\n",
            "9   68   tamim       8   40    0.15       aksh       mia   40000\n",
            "10  69   najmol      9   40    0.25      ashok       mia   50000\n",
            "11  70   naimur     10   70    0.60      usiof       mia   60000\n",
            "12  17   naimur     12   20    0.00      tamim       mia   70000\n"
          ]
        }
      ]
    },
    {
      "cell_type": "code",
      "source": [
        "print(dd.duplicated().sum())             #### its provide row wise douplicated value"
      ],
      "metadata": {
        "id": "BWLlJn7KnLq3",
        "colab": {
          "base_uri": "https://localhost:8080/"
        },
        "outputId": "e61f480e-c474-4b01-bddd-d0e0a22e694f"
      },
      "execution_count": null,
      "outputs": [
        {
          "output_type": "stream",
          "name": "stdout",
          "text": [
            "0\n"
          ]
        }
      ]
    },
    {
      "cell_type": "code",
      "source": [
        "print(dd['name'].duplicated().sum())      ### its provide column wise douplicated value"
      ],
      "metadata": {
        "colab": {
          "base_uri": "https://localhost:8080/"
        },
        "id": "qugkx-_Ks7ez",
        "outputId": "1a4b92b6-4238-40a7-8e31-39306349d296"
      },
      "execution_count": null,
      "outputs": [
        {
          "output_type": "stream",
          "name": "stdout",
          "text": [
            "4\n"
          ]
        }
      ]
    },
    {
      "cell_type": "code",
      "source": [
        "print(dd['id'].duplicated())"
      ],
      "metadata": {
        "colab": {
          "base_uri": "https://localhost:8080/"
        },
        "id": "nFvGQ95Ls7vA",
        "outputId": "c927b95d-7571-4753-b27e-8db2f623875c"
      },
      "execution_count": null,
      "outputs": [
        {
          "output_type": "stream",
          "name": "stdout",
          "text": [
            "0     False\n",
            "1     False\n",
            "2     False\n",
            "3     False\n",
            "4      True\n",
            "5     False\n",
            "6      True\n",
            "7     False\n",
            "8     False\n",
            "9     False\n",
            "10    False\n",
            "11    False\n",
            "12    False\n",
            "Name: id, dtype: bool\n"
          ]
        }
      ]
    },
    {
      "cell_type": "code",
      "source": [
        "dd.drop_duplicates()"
      ],
      "metadata": {
        "id": "kTKkqao6xQsp",
        "outputId": "ea66860f-4fff-4952-edd5-6dd9619e2953",
        "colab": {
          "base_uri": "https://localhost:8080/",
          "height": 457
        }
      },
      "execution_count": null,
      "outputs": [
        {
          "output_type": "execute_result",
          "data": {
            "text/plain": [
              "    id     name  class  age  bonous first name last name  salary\n",
              "0   11    kamal      1   23    0.15     aboul        mia   20000\n",
              "1   22    jamal      2   24    0.30      kalam       mia   30000\n",
              "2   33  hossain      3   25    0.00      niyaj       mia   40000\n",
              "3   44  rohaman      4   26    0.40     faraji       mia   50000\n",
              "4   11    kamal      1   23    0.60      habib       mia   60000\n",
              "5   55     amir      5   28    0.60      karim       mia   70000\n",
              "6   55     amir      5   28    0.20       amin       mia   80000\n",
              "7   66    jamir      6   30    0.00      rohim       mia   90000\n",
              "8   67   tamim       7   25    0.00    rohoman       mia   30000\n",
              "9   68   tamim       8   40    0.15       aksh       mia   40000\n",
              "10  69   najmol      9   40    0.25      ashok       mia   50000\n",
              "11  70   naimur     10   70    0.60      usiof       mia   60000\n",
              "12  17   naimur     12   20    0.00      tamim       mia   70000"
            ],
            "text/html": [
              "\n",
              "  <div id=\"df-c2aea338-aadf-4ec0-a2ae-86e666bb0662\" class=\"colab-df-container\">\n",
              "    <div>\n",
              "<style scoped>\n",
              "    .dataframe tbody tr th:only-of-type {\n",
              "        vertical-align: middle;\n",
              "    }\n",
              "\n",
              "    .dataframe tbody tr th {\n",
              "        vertical-align: top;\n",
              "    }\n",
              "\n",
              "    .dataframe thead th {\n",
              "        text-align: right;\n",
              "    }\n",
              "</style>\n",
              "<table border=\"1\" class=\"dataframe\">\n",
              "  <thead>\n",
              "    <tr style=\"text-align: right;\">\n",
              "      <th></th>\n",
              "      <th>id</th>\n",
              "      <th>name</th>\n",
              "      <th>class</th>\n",
              "      <th>age</th>\n",
              "      <th>bonous</th>\n",
              "      <th>first name</th>\n",
              "      <th>last name</th>\n",
              "      <th>salary</th>\n",
              "    </tr>\n",
              "  </thead>\n",
              "  <tbody>\n",
              "    <tr>\n",
              "      <th>0</th>\n",
              "      <td>11</td>\n",
              "      <td>kamal</td>\n",
              "      <td>1</td>\n",
              "      <td>23</td>\n",
              "      <td>0.15</td>\n",
              "      <td>aboul</td>\n",
              "      <td>mia</td>\n",
              "      <td>20000</td>\n",
              "    </tr>\n",
              "    <tr>\n",
              "      <th>1</th>\n",
              "      <td>22</td>\n",
              "      <td>jamal</td>\n",
              "      <td>2</td>\n",
              "      <td>24</td>\n",
              "      <td>0.30</td>\n",
              "      <td>kalam</td>\n",
              "      <td>mia</td>\n",
              "      <td>30000</td>\n",
              "    </tr>\n",
              "    <tr>\n",
              "      <th>2</th>\n",
              "      <td>33</td>\n",
              "      <td>hossain</td>\n",
              "      <td>3</td>\n",
              "      <td>25</td>\n",
              "      <td>0.00</td>\n",
              "      <td>niyaj</td>\n",
              "      <td>mia</td>\n",
              "      <td>40000</td>\n",
              "    </tr>\n",
              "    <tr>\n",
              "      <th>3</th>\n",
              "      <td>44</td>\n",
              "      <td>rohaman</td>\n",
              "      <td>4</td>\n",
              "      <td>26</td>\n",
              "      <td>0.40</td>\n",
              "      <td>faraji</td>\n",
              "      <td>mia</td>\n",
              "      <td>50000</td>\n",
              "    </tr>\n",
              "    <tr>\n",
              "      <th>4</th>\n",
              "      <td>11</td>\n",
              "      <td>kamal</td>\n",
              "      <td>1</td>\n",
              "      <td>23</td>\n",
              "      <td>0.60</td>\n",
              "      <td>habib</td>\n",
              "      <td>mia</td>\n",
              "      <td>60000</td>\n",
              "    </tr>\n",
              "    <tr>\n",
              "      <th>5</th>\n",
              "      <td>55</td>\n",
              "      <td>amir</td>\n",
              "      <td>5</td>\n",
              "      <td>28</td>\n",
              "      <td>0.60</td>\n",
              "      <td>karim</td>\n",
              "      <td>mia</td>\n",
              "      <td>70000</td>\n",
              "    </tr>\n",
              "    <tr>\n",
              "      <th>6</th>\n",
              "      <td>55</td>\n",
              "      <td>amir</td>\n",
              "      <td>5</td>\n",
              "      <td>28</td>\n",
              "      <td>0.20</td>\n",
              "      <td>amin</td>\n",
              "      <td>mia</td>\n",
              "      <td>80000</td>\n",
              "    </tr>\n",
              "    <tr>\n",
              "      <th>7</th>\n",
              "      <td>66</td>\n",
              "      <td>jamir</td>\n",
              "      <td>6</td>\n",
              "      <td>30</td>\n",
              "      <td>0.00</td>\n",
              "      <td>rohim</td>\n",
              "      <td>mia</td>\n",
              "      <td>90000</td>\n",
              "    </tr>\n",
              "    <tr>\n",
              "      <th>8</th>\n",
              "      <td>67</td>\n",
              "      <td>tamim</td>\n",
              "      <td>7</td>\n",
              "      <td>25</td>\n",
              "      <td>0.00</td>\n",
              "      <td>rohoman</td>\n",
              "      <td>mia</td>\n",
              "      <td>30000</td>\n",
              "    </tr>\n",
              "    <tr>\n",
              "      <th>9</th>\n",
              "      <td>68</td>\n",
              "      <td>tamim</td>\n",
              "      <td>8</td>\n",
              "      <td>40</td>\n",
              "      <td>0.15</td>\n",
              "      <td>aksh</td>\n",
              "      <td>mia</td>\n",
              "      <td>40000</td>\n",
              "    </tr>\n",
              "    <tr>\n",
              "      <th>10</th>\n",
              "      <td>69</td>\n",
              "      <td>najmol</td>\n",
              "      <td>9</td>\n",
              "      <td>40</td>\n",
              "      <td>0.25</td>\n",
              "      <td>ashok</td>\n",
              "      <td>mia</td>\n",
              "      <td>50000</td>\n",
              "    </tr>\n",
              "    <tr>\n",
              "      <th>11</th>\n",
              "      <td>70</td>\n",
              "      <td>naimur</td>\n",
              "      <td>10</td>\n",
              "      <td>70</td>\n",
              "      <td>0.60</td>\n",
              "      <td>usiof</td>\n",
              "      <td>mia</td>\n",
              "      <td>60000</td>\n",
              "    </tr>\n",
              "    <tr>\n",
              "      <th>12</th>\n",
              "      <td>17</td>\n",
              "      <td>naimur</td>\n",
              "      <td>12</td>\n",
              "      <td>20</td>\n",
              "      <td>0.00</td>\n",
              "      <td>tamim</td>\n",
              "      <td>mia</td>\n",
              "      <td>70000</td>\n",
              "    </tr>\n",
              "  </tbody>\n",
              "</table>\n",
              "</div>\n",
              "    <div class=\"colab-df-buttons\">\n",
              "\n",
              "  <div class=\"colab-df-container\">\n",
              "    <button class=\"colab-df-convert\" onclick=\"convertToInteractive('df-c2aea338-aadf-4ec0-a2ae-86e666bb0662')\"\n",
              "            title=\"Convert this dataframe to an interactive table.\"\n",
              "            style=\"display:none;\">\n",
              "\n",
              "  <svg xmlns=\"http://www.w3.org/2000/svg\" height=\"24px\" viewBox=\"0 -960 960 960\">\n",
              "    <path d=\"M120-120v-720h720v720H120Zm60-500h600v-160H180v160Zm220 220h160v-160H400v160Zm0 220h160v-160H400v160ZM180-400h160v-160H180v160Zm440 0h160v-160H620v160ZM180-180h160v-160H180v160Zm440 0h160v-160H620v160Z\"/>\n",
              "  </svg>\n",
              "    </button>\n",
              "\n",
              "  <style>\n",
              "    .colab-df-container {\n",
              "      display:flex;\n",
              "      gap: 12px;\n",
              "    }\n",
              "\n",
              "    .colab-df-convert {\n",
              "      background-color: #E8F0FE;\n",
              "      border: none;\n",
              "      border-radius: 50%;\n",
              "      cursor: pointer;\n",
              "      display: none;\n",
              "      fill: #1967D2;\n",
              "      height: 32px;\n",
              "      padding: 0 0 0 0;\n",
              "      width: 32px;\n",
              "    }\n",
              "\n",
              "    .colab-df-convert:hover {\n",
              "      background-color: #E2EBFA;\n",
              "      box-shadow: 0px 1px 2px rgba(60, 64, 67, 0.3), 0px 1px 3px 1px rgba(60, 64, 67, 0.15);\n",
              "      fill: #174EA6;\n",
              "    }\n",
              "\n",
              "    .colab-df-buttons div {\n",
              "      margin-bottom: 4px;\n",
              "    }\n",
              "\n",
              "    [theme=dark] .colab-df-convert {\n",
              "      background-color: #3B4455;\n",
              "      fill: #D2E3FC;\n",
              "    }\n",
              "\n",
              "    [theme=dark] .colab-df-convert:hover {\n",
              "      background-color: #434B5C;\n",
              "      box-shadow: 0px 1px 3px 1px rgba(0, 0, 0, 0.15);\n",
              "      filter: drop-shadow(0px 1px 2px rgba(0, 0, 0, 0.3));\n",
              "      fill: #FFFFFF;\n",
              "    }\n",
              "  </style>\n",
              "\n",
              "    <script>\n",
              "      const buttonEl =\n",
              "        document.querySelector('#df-c2aea338-aadf-4ec0-a2ae-86e666bb0662 button.colab-df-convert');\n",
              "      buttonEl.style.display =\n",
              "        google.colab.kernel.accessAllowed ? 'block' : 'none';\n",
              "\n",
              "      async function convertToInteractive(key) {\n",
              "        const element = document.querySelector('#df-c2aea338-aadf-4ec0-a2ae-86e666bb0662');\n",
              "        const dataTable =\n",
              "          await google.colab.kernel.invokeFunction('convertToInteractive',\n",
              "                                                    [key], {});\n",
              "        if (!dataTable) return;\n",
              "\n",
              "        const docLinkHtml = 'Like what you see? Visit the ' +\n",
              "          '<a target=\"_blank\" href=https://colab.research.google.com/notebooks/data_table.ipynb>data table notebook</a>'\n",
              "          + ' to learn more about interactive tables.';\n",
              "        element.innerHTML = '';\n",
              "        dataTable['output_type'] = 'display_data';\n",
              "        await google.colab.output.renderOutput(dataTable, element);\n",
              "        const docLink = document.createElement('div');\n",
              "        docLink.innerHTML = docLinkHtml;\n",
              "        element.appendChild(docLink);\n",
              "      }\n",
              "    </script>\n",
              "  </div>\n",
              "\n",
              "\n",
              "<div id=\"df-9527d4b4-4a1b-464d-bad8-0889318d7134\">\n",
              "  <button class=\"colab-df-quickchart\" onclick=\"quickchart('df-9527d4b4-4a1b-464d-bad8-0889318d7134')\"\n",
              "            title=\"Suggest charts\"\n",
              "            style=\"display:none;\">\n",
              "\n",
              "<svg xmlns=\"http://www.w3.org/2000/svg\" height=\"24px\"viewBox=\"0 0 24 24\"\n",
              "     width=\"24px\">\n",
              "    <g>\n",
              "        <path d=\"M19 3H5c-1.1 0-2 .9-2 2v14c0 1.1.9 2 2 2h14c1.1 0 2-.9 2-2V5c0-1.1-.9-2-2-2zM9 17H7v-7h2v7zm4 0h-2V7h2v10zm4 0h-2v-4h2v4z\"/>\n",
              "    </g>\n",
              "</svg>\n",
              "  </button>\n",
              "\n",
              "<style>\n",
              "  .colab-df-quickchart {\n",
              "      --bg-color: #E8F0FE;\n",
              "      --fill-color: #1967D2;\n",
              "      --hover-bg-color: #E2EBFA;\n",
              "      --hover-fill-color: #174EA6;\n",
              "      --disabled-fill-color: #AAA;\n",
              "      --disabled-bg-color: #DDD;\n",
              "  }\n",
              "\n",
              "  [theme=dark] .colab-df-quickchart {\n",
              "      --bg-color: #3B4455;\n",
              "      --fill-color: #D2E3FC;\n",
              "      --hover-bg-color: #434B5C;\n",
              "      --hover-fill-color: #FFFFFF;\n",
              "      --disabled-bg-color: #3B4455;\n",
              "      --disabled-fill-color: #666;\n",
              "  }\n",
              "\n",
              "  .colab-df-quickchart {\n",
              "    background-color: var(--bg-color);\n",
              "    border: none;\n",
              "    border-radius: 50%;\n",
              "    cursor: pointer;\n",
              "    display: none;\n",
              "    fill: var(--fill-color);\n",
              "    height: 32px;\n",
              "    padding: 0;\n",
              "    width: 32px;\n",
              "  }\n",
              "\n",
              "  .colab-df-quickchart:hover {\n",
              "    background-color: var(--hover-bg-color);\n",
              "    box-shadow: 0 1px 2px rgba(60, 64, 67, 0.3), 0 1px 3px 1px rgba(60, 64, 67, 0.15);\n",
              "    fill: var(--button-hover-fill-color);\n",
              "  }\n",
              "\n",
              "  .colab-df-quickchart-complete:disabled,\n",
              "  .colab-df-quickchart-complete:disabled:hover {\n",
              "    background-color: var(--disabled-bg-color);\n",
              "    fill: var(--disabled-fill-color);\n",
              "    box-shadow: none;\n",
              "  }\n",
              "\n",
              "  .colab-df-spinner {\n",
              "    border: 2px solid var(--fill-color);\n",
              "    border-color: transparent;\n",
              "    border-bottom-color: var(--fill-color);\n",
              "    animation:\n",
              "      spin 1s steps(1) infinite;\n",
              "  }\n",
              "\n",
              "  @keyframes spin {\n",
              "    0% {\n",
              "      border-color: transparent;\n",
              "      border-bottom-color: var(--fill-color);\n",
              "      border-left-color: var(--fill-color);\n",
              "    }\n",
              "    20% {\n",
              "      border-color: transparent;\n",
              "      border-left-color: var(--fill-color);\n",
              "      border-top-color: var(--fill-color);\n",
              "    }\n",
              "    30% {\n",
              "      border-color: transparent;\n",
              "      border-left-color: var(--fill-color);\n",
              "      border-top-color: var(--fill-color);\n",
              "      border-right-color: var(--fill-color);\n",
              "    }\n",
              "    40% {\n",
              "      border-color: transparent;\n",
              "      border-right-color: var(--fill-color);\n",
              "      border-top-color: var(--fill-color);\n",
              "    }\n",
              "    60% {\n",
              "      border-color: transparent;\n",
              "      border-right-color: var(--fill-color);\n",
              "    }\n",
              "    80% {\n",
              "      border-color: transparent;\n",
              "      border-right-color: var(--fill-color);\n",
              "      border-bottom-color: var(--fill-color);\n",
              "    }\n",
              "    90% {\n",
              "      border-color: transparent;\n",
              "      border-bottom-color: var(--fill-color);\n",
              "    }\n",
              "  }\n",
              "</style>\n",
              "\n",
              "  <script>\n",
              "    async function quickchart(key) {\n",
              "      const quickchartButtonEl =\n",
              "        document.querySelector('#' + key + ' button');\n",
              "      quickchartButtonEl.disabled = true;  // To prevent multiple clicks.\n",
              "      quickchartButtonEl.classList.add('colab-df-spinner');\n",
              "      try {\n",
              "        const charts = await google.colab.kernel.invokeFunction(\n",
              "            'suggestCharts', [key], {});\n",
              "      } catch (error) {\n",
              "        console.error('Error during call to suggestCharts:', error);\n",
              "      }\n",
              "      quickchartButtonEl.classList.remove('colab-df-spinner');\n",
              "      quickchartButtonEl.classList.add('colab-df-quickchart-complete');\n",
              "    }\n",
              "    (() => {\n",
              "      let quickchartButtonEl =\n",
              "        document.querySelector('#df-9527d4b4-4a1b-464d-bad8-0889318d7134 button');\n",
              "      quickchartButtonEl.style.display =\n",
              "        google.colab.kernel.accessAllowed ? 'block' : 'none';\n",
              "    })();\n",
              "  </script>\n",
              "</div>\n",
              "\n",
              "    </div>\n",
              "  </div>\n"
            ],
            "application/vnd.google.colaboratory.intrinsic+json": {
              "type": "dataframe",
              "summary": "{\n  \"name\": \"dd\",\n  \"rows\": 13,\n  \"fields\": [\n    {\n      \"column\": \"id\",\n      \"properties\": {\n        \"dtype\": \"number\",\n        \"std\": 23,\n        \"min\": 11,\n        \"max\": 70,\n        \"num_unique_values\": 11,\n        \"samples\": [\n          66,\n          11,\n          70\n        ],\n        \"semantic_type\": \"\",\n        \"description\": \"\"\n      }\n    },\n    {\n      \"column\": \"name\",\n      \"properties\": {\n        \"dtype\": \"string\",\n        \"num_unique_values\": 9,\n        \"samples\": [\n          \"najmol\",\n          \"jamal\",\n          \"jamir\"\n        ],\n        \"semantic_type\": \"\",\n        \"description\": \"\"\n      }\n    },\n    {\n      \"column\": \"class\",\n      \"properties\": {\n        \"dtype\": \"number\",\n        \"std\": 3,\n        \"min\": 1,\n        \"max\": 12,\n        \"num_unique_values\": 11,\n        \"samples\": [\n          6,\n          1,\n          10\n        ],\n        \"semantic_type\": \"\",\n        \"description\": \"\"\n      }\n    },\n    {\n      \"column\": \"age\",\n      \"properties\": {\n        \"dtype\": \"number\",\n        \"std\": 13,\n        \"min\": 20,\n        \"max\": 70,\n        \"num_unique_values\": 9,\n        \"samples\": [\n          70,\n          24,\n          30\n        ],\n        \"semantic_type\": \"\",\n        \"description\": \"\"\n      }\n    },\n    {\n      \"column\": \"bonous\",\n      \"properties\": {\n        \"dtype\": \"number\",\n        \"std\": 0.23540744819709222,\n        \"min\": 0.0,\n        \"max\": 0.6,\n        \"num_unique_values\": 7,\n        \"samples\": [\n          0.15,\n          0.3,\n          0.2\n        ],\n        \"semantic_type\": \"\",\n        \"description\": \"\"\n      }\n    },\n    {\n      \"column\": \"first name\",\n      \"properties\": {\n        \"dtype\": \"string\",\n        \"num_unique_values\": 13,\n        \"samples\": [\n          \"usiof\",\n          \"aksh\",\n          \"aboul \"\n        ],\n        \"semantic_type\": \"\",\n        \"description\": \"\"\n      }\n    },\n    {\n      \"column\": \"last name\",\n      \"properties\": {\n        \"dtype\": \"category\",\n        \"num_unique_values\": 1,\n        \"samples\": [\n          \"mia\"\n        ],\n        \"semantic_type\": \"\",\n        \"description\": \"\"\n      }\n    },\n    {\n      \"column\": \"salary\",\n      \"properties\": {\n        \"dtype\": \"number\",\n        \"std\": 20970,\n        \"min\": 20000,\n        \"max\": 90000,\n        \"num_unique_values\": 8,\n        \"samples\": [\n          30000\n        ],\n        \"semantic_type\": \"\",\n        \"description\": \"\"\n      }\n    }\n  ]\n}"
            }
          },
          "metadata": {},
          "execution_count": 17
        }
      ]
    },
    {
      "cell_type": "code",
      "source": [
        "print(dd.drop_duplicates('id'))"
      ],
      "metadata": {
        "colab": {
          "base_uri": "https://localhost:8080/"
        },
        "id": "YjjG8DDMs8BC",
        "outputId": "ae1aa010-ac13-4bca-8be5-f8738cd59928"
      },
      "execution_count": null,
      "outputs": [
        {
          "output_type": "stream",
          "name": "stdout",
          "text": [
            "    id     name  class  age  bonous first name last name  salary\n",
            "0   11    kamal      1   23    0.15     aboul        mia   20000\n",
            "1   22    jamal      2   24    0.30      kalam       mia   30000\n",
            "2   33  hossain      3   25    0.00      niyaj       mia   40000\n",
            "3   44  rohaman      4   26    0.40     faraji       mia   50000\n",
            "5   55     amir      5   28    0.60      karim       mia   70000\n",
            "7   66    jamir      6   30    0.00      rohim       mia   90000\n",
            "8   67   tamim       7   25    0.00    rohoman       mia   30000\n",
            "9   68   tamim       8   40    0.15       aksh       mia   40000\n",
            "10  69   najmol      9   40    0.25      ashok       mia   50000\n",
            "11  70   naimur     10   70    0.60      usiof       mia   60000\n",
            "12  17   naimur     12   20    0.00      tamim       mia   70000\n"
          ]
        }
      ]
    },
    {
      "cell_type": "code",
      "source": [
        "df = pd.read_excel('sst.xlsx')\n",
        "print(df)"
      ],
      "metadata": {
        "id": "kdUbW2dps8UY",
        "colab": {
          "base_uri": "https://localhost:8080/"
        },
        "outputId": "5edfb828-317f-4ab9-c2e3-12fa02d06a6f"
      },
      "execution_count": null,
      "outputs": [
        {
          "output_type": "stream",
          "name": "stdout",
          "text": [
            "      id     name  class    age\n",
            "0   11.0    kamal    1.0   23.0\n",
            "1   22.0    jamal    2.0   24.0\n",
            "2   33.0  hossain    3.0   25.0\n",
            "3   44.0  rohaman    4.0   26.0\n",
            "4   11.0    kamal    1.0   23.0\n",
            "5   55.0     amir    5.0   28.0\n",
            "6   55.0     amir    5.0   28.0\n",
            "7   66.0    jamir    6.0   30.0\n",
            "8   67.0   tamim     7.0   25.0\n",
            "9   68.0   tamim     8.0   40.0\n",
            "10  69.0   najmol    9.0   40.0\n",
            "11  70.0   naimur   10.0   70.0\n",
            "12  17.0   naimur   12.0   20.0\n",
            "13  12.0     abdu    NaN    NaN\n",
            "14   NaN      NaN   23.0   66.0\n",
            "15  22.0      NaN   35.0    NaN\n",
            "16  44.0    rhhim   60.0    NaN\n",
            "17  66.0  rohoman    NaN   88.0\n",
            "18   NaN     aman    NaN  777.0\n",
            "19  77.0      NaN   33.0  666.0\n",
            "20   NaN    rohan    NaN  555.0\n",
            "21   NaN    tomal   55.0  333.0\n",
            "22  66.0    tamim   44.0  222.0\n",
            "23  77.0    rihan   66.0  111.0\n"
          ]
        }
      ]
    },
    {
      "cell_type": "code",
      "source": [
        "print(df.isnull().sum())"
      ],
      "metadata": {
        "id": "RNraLPf1s8jQ",
        "colab": {
          "base_uri": "https://localhost:8080/"
        },
        "outputId": "1a2dddd4-7e7b-419b-d7cb-3581c2662a26"
      },
      "execution_count": null,
      "outputs": [
        {
          "output_type": "stream",
          "name": "stdout",
          "text": [
            "id       4\n",
            "name     3\n",
            "class    4\n",
            "age      3\n",
            "dtype: int64\n"
          ]
        }
      ]
    },
    {
      "cell_type": "code",
      "source": [
        "print(df.dropna())"
      ],
      "metadata": {
        "id": "KimfIQqxs8wo",
        "colab": {
          "base_uri": "https://localhost:8080/"
        },
        "outputId": "d472da8e-d28d-4487-8085-04ac41b154e6"
      },
      "execution_count": null,
      "outputs": [
        {
          "output_type": "stream",
          "name": "stdout",
          "text": [
            "      id     name  class    age\n",
            "0   11.0    kamal    1.0   23.0\n",
            "1   22.0    jamal    2.0   24.0\n",
            "2   33.0  hossain    3.0   25.0\n",
            "3   44.0  rohaman    4.0   26.0\n",
            "4   11.0    kamal    1.0   23.0\n",
            "5   55.0     amir    5.0   28.0\n",
            "6   55.0     amir    5.0   28.0\n",
            "7   66.0    jamir    6.0   30.0\n",
            "8   67.0   tamim     7.0   25.0\n",
            "9   68.0   tamim     8.0   40.0\n",
            "10  69.0   najmol    9.0   40.0\n",
            "11  70.0   naimur   10.0   70.0\n",
            "12  17.0   naimur   12.0   20.0\n",
            "22  66.0    tamim   44.0  222.0\n",
            "23  77.0    rihan   66.0  111.0\n"
          ]
        }
      ]
    },
    {
      "cell_type": "code",
      "source": [
        "import numpy as np\n",
        "\n",
        "\n",
        "print(df.replace (np.nan,30000))"
      ],
      "metadata": {
        "id": "U03XKboxs9AQ",
        "colab": {
          "base_uri": "https://localhost:8080/"
        },
        "outputId": "73374213-9fe4-4527-fd74-58b6c2474b95"
      },
      "execution_count": null,
      "outputs": [
        {
          "output_type": "stream",
          "name": "stdout",
          "text": [
            "         id     name    class      age\n",
            "0      11.0    kamal      1.0     23.0\n",
            "1      22.0    jamal      2.0     24.0\n",
            "2      33.0  hossain      3.0     25.0\n",
            "3      44.0  rohaman      4.0     26.0\n",
            "4      11.0    kamal      1.0     23.0\n",
            "5      55.0     amir      5.0     28.0\n",
            "6      55.0     amir      5.0     28.0\n",
            "7      66.0    jamir      6.0     30.0\n",
            "8      67.0   tamim       7.0     25.0\n",
            "9      68.0   tamim       8.0     40.0\n",
            "10     69.0   najmol      9.0     40.0\n",
            "11     70.0   naimur     10.0     70.0\n",
            "12     17.0   naimur     12.0     20.0\n",
            "13     12.0     abdu  30000.0  30000.0\n",
            "14  30000.0    30000     23.0     66.0\n",
            "15     22.0    30000     35.0  30000.0\n",
            "16     44.0    rhhim     60.0  30000.0\n",
            "17     66.0  rohoman  30000.0     88.0\n",
            "18  30000.0     aman  30000.0    777.0\n",
            "19     77.0    30000     33.0    666.0\n",
            "20  30000.0    rohan  30000.0    555.0\n",
            "21  30000.0    tomal     55.0    333.0\n",
            "22     66.0    tamim     44.0    222.0\n",
            "23     77.0    rihan     66.0    111.0\n"
          ]
        }
      ]
    },
    {
      "cell_type": "code",
      "source": [
        "df['salary'] = df[\"age\"].replace(np.nan,18)\n",
        "print(df)"
      ],
      "metadata": {
        "id": "X2CLrmcSs9Ng",
        "colab": {
          "base_uri": "https://localhost:8080/"
        },
        "outputId": "06db589a-cd4a-437e-9684-ca954a47ace9"
      },
      "execution_count": null,
      "outputs": [
        {
          "output_type": "stream",
          "name": "stdout",
          "text": [
            "      id     name  class    age  salary\n",
            "0   11.0    kamal    1.0   23.0    23.0\n",
            "1   22.0    jamal    2.0   24.0    24.0\n",
            "2   33.0  hossain    3.0   25.0    25.0\n",
            "3   44.0  rohaman    4.0   26.0    26.0\n",
            "4   11.0    kamal    1.0   23.0    23.0\n",
            "5   55.0     amir    5.0   28.0    28.0\n",
            "6   55.0     amir    5.0   28.0    28.0\n",
            "7   66.0    jamir    6.0   30.0    30.0\n",
            "8   67.0   tamim     7.0   25.0    25.0\n",
            "9   68.0   tamim     8.0   40.0    40.0\n",
            "10  69.0   najmol    9.0   40.0    40.0\n",
            "11  70.0   naimur   10.0   70.0    70.0\n",
            "12  17.0   naimur   12.0   20.0    20.0\n",
            "13  12.0     abdu    NaN    NaN    18.0\n",
            "14   NaN      NaN   23.0   66.0    66.0\n",
            "15  22.0      NaN   35.0    NaN    18.0\n",
            "16  44.0    rhhim   60.0    NaN    18.0\n",
            "17  66.0  rohoman    NaN   88.0    88.0\n",
            "18   NaN     aman    NaN  777.0   777.0\n",
            "19  77.0      NaN   33.0  666.0   666.0\n",
            "20   NaN    rohan    NaN  555.0   555.0\n",
            "21   NaN    tomal   55.0  333.0   333.0\n",
            "22  66.0    tamim   44.0  222.0   222.0\n",
            "23  77.0    rihan   66.0  111.0   111.0\n"
          ]
        }
      ]
    },
    {
      "cell_type": "code",
      "source": [
        "print(df)"
      ],
      "metadata": {
        "id": "NZ_FLnsys9lg",
        "colab": {
          "base_uri": "https://localhost:8080/"
        },
        "outputId": "1340d6b7-8df5-4b0c-cb74-0558af0e3a7e"
      },
      "execution_count": null,
      "outputs": [
        {
          "output_type": "stream",
          "name": "stdout",
          "text": [
            "      id     name  class    age  salary\n",
            "0   11.0    kamal    1.0   23.0    23.0\n",
            "1   22.0    jamal    2.0   24.0    24.0\n",
            "2   33.0  hossain    3.0   25.0    25.0\n",
            "3   44.0  rohaman    4.0   26.0    26.0\n",
            "4   11.0    kamal    1.0   23.0    23.0\n",
            "5   55.0     amir    5.0   28.0    28.0\n",
            "6   55.0     amir    5.0   28.0    28.0\n",
            "7   66.0    jamir    6.0   30.0    30.0\n",
            "8   67.0   tamim     7.0   25.0    25.0\n",
            "9   68.0   tamim     8.0   40.0    40.0\n",
            "10  69.0   najmol    9.0   40.0    40.0\n",
            "11  70.0   naimur   10.0   70.0    70.0\n",
            "12  17.0   naimur   12.0   20.0    20.0\n",
            "13  12.0     abdu    NaN    NaN    18.0\n",
            "14   NaN      NaN   23.0   66.0    66.0\n",
            "15  22.0      NaN   35.0    NaN    18.0\n",
            "16  44.0    rhhim   60.0    NaN    18.0\n",
            "17  66.0  rohoman    NaN   88.0    88.0\n",
            "18   NaN     aman    NaN  777.0   777.0\n",
            "19  77.0      NaN   33.0  666.0   666.0\n",
            "20   NaN    rohan    NaN  555.0   555.0\n",
            "21   NaN    tomal   55.0  333.0   333.0\n",
            "22  66.0    tamim   44.0  222.0   222.0\n",
            "23  77.0    rihan   66.0  111.0   111.0\n"
          ]
        }
      ]
    },
    {
      "cell_type": "code",
      "source": [
        "print(df)"
      ],
      "metadata": {
        "colab": {
          "base_uri": "https://localhost:8080/"
        },
        "id": "QunTnzLGZFLa",
        "outputId": "6f21eb86-a275-442f-bc03-13aca2860b0e"
      },
      "execution_count": null,
      "outputs": [
        {
          "output_type": "stream",
          "name": "stdout",
          "text": [
            "      id     name  class    age  salary\n",
            "0   11.0    kamal    1.0   23.0    23.0\n",
            "1   22.0    jamal    2.0   24.0    24.0\n",
            "2   33.0  hossain    3.0   25.0    25.0\n",
            "3   44.0  rohaman    4.0   26.0    26.0\n",
            "4   11.0    kamal    1.0   23.0    23.0\n",
            "5   55.0     amir    5.0   28.0    28.0\n",
            "6   55.0     amir    5.0   28.0    28.0\n",
            "7   66.0    jamir    6.0   30.0    30.0\n",
            "8   67.0   tamim     7.0   25.0    25.0\n",
            "9   68.0   tamim     8.0   40.0    40.0\n",
            "10  69.0   najmol    9.0   40.0    40.0\n",
            "11  70.0   naimur   10.0   70.0    70.0\n",
            "12  17.0   naimur   12.0   20.0    20.0\n",
            "13  12.0     abdu    NaN    NaN    18.0\n",
            "14   NaN      NaN   23.0   66.0    66.0\n",
            "15  22.0      NaN   35.0    NaN    18.0\n",
            "16  44.0    rhhim   60.0    NaN    18.0\n",
            "17  66.0  rohoman    NaN   88.0    88.0\n",
            "18   NaN     aman    NaN  777.0   777.0\n",
            "19  77.0      NaN   33.0  666.0   666.0\n",
            "20   NaN    rohan    NaN  555.0   555.0\n",
            "21   NaN    tomal   55.0  333.0   333.0\n",
            "22  66.0    tamim   44.0  222.0   222.0\n",
            "23  77.0    rihan   66.0  111.0   111.0\n"
          ]
        }
      ]
    },
    {
      "cell_type": "code",
      "source": [
        "print (df['age'].mean())\n"
      ],
      "metadata": {
        "colab": {
          "base_uri": "https://localhost:8080/"
        },
        "id": "s9YNNgyDZFkP",
        "outputId": "c153229b-8746-45af-b034-ed541150c4db"
      },
      "execution_count": null,
      "outputs": [
        {
          "output_type": "stream",
          "name": "stdout",
          "text": [
            "153.33333333333334\n"
          ]
        }
      ]
    },
    {
      "cell_type": "code",
      "source": [
        "print(df)"
      ],
      "metadata": {
        "colab": {
          "base_uri": "https://localhost:8080/"
        },
        "id": "1ym2dMk9ZF42",
        "outputId": "06596c4e-95f6-4945-ea4c-49d04a0ef064"
      },
      "execution_count": null,
      "outputs": [
        {
          "output_type": "stream",
          "name": "stdout",
          "text": [
            "      id     name  class    age  salary\n",
            "0   11.0    kamal    1.0   23.0    23.0\n",
            "1   22.0    jamal    2.0   24.0    24.0\n",
            "2   33.0  hossain    3.0   25.0    25.0\n",
            "3   44.0  rohaman    4.0   26.0    26.0\n",
            "4   11.0    kamal    1.0   23.0    23.0\n",
            "5   55.0     amir    5.0   28.0    28.0\n",
            "6   55.0     amir    5.0   28.0    28.0\n",
            "7   66.0    jamir    6.0   30.0    30.0\n",
            "8   67.0   tamim     7.0   25.0    25.0\n",
            "9   68.0   tamim     8.0   40.0    40.0\n",
            "10  69.0   najmol    9.0   40.0    40.0\n",
            "11  70.0   naimur   10.0   70.0    70.0\n",
            "12  17.0   naimur   12.0   20.0    20.0\n",
            "13  12.0     abdu    NaN    NaN    18.0\n",
            "14   NaN      NaN   23.0   66.0    66.0\n",
            "15  22.0      NaN   35.0    NaN    18.0\n",
            "16  44.0    rhhim   60.0    NaN    18.0\n",
            "17  66.0  rohoman    NaN   88.0    88.0\n",
            "18   NaN     aman    NaN  777.0   777.0\n",
            "19  77.0      NaN   33.0  666.0   666.0\n",
            "20   NaN    rohan    NaN  555.0   555.0\n",
            "21   NaN    tomal   55.0  333.0   333.0\n",
            "22  66.0    tamim   44.0  222.0   222.0\n",
            "23  77.0    rihan   66.0  111.0   111.0\n"
          ]
        }
      ]
    },
    {
      "cell_type": "code",
      "source": [
        "print(df.fillna(method='bfill'))"
      ],
      "metadata": {
        "colab": {
          "base_uri": "https://localhost:8080/"
        },
        "id": "GCL_Tyn5ZGKX",
        "outputId": "15eb95bc-edec-4777-baf0-33fd03a1e201"
      },
      "execution_count": null,
      "outputs": [
        {
          "output_type": "stream",
          "name": "stdout",
          "text": [
            "      id     name  class    age  salary\n",
            "0   11.0    kamal    1.0   23.0    23.0\n",
            "1   22.0    jamal    2.0   24.0    24.0\n",
            "2   33.0  hossain    3.0   25.0    25.0\n",
            "3   44.0  rohaman    4.0   26.0    26.0\n",
            "4   11.0    kamal    1.0   23.0    23.0\n",
            "5   55.0     amir    5.0   28.0    28.0\n",
            "6   55.0     amir    5.0   28.0    28.0\n",
            "7   66.0    jamir    6.0   30.0    30.0\n",
            "8   67.0   tamim     7.0   25.0    25.0\n",
            "9   68.0   tamim     8.0   40.0    40.0\n",
            "10  69.0   najmol    9.0   40.0    40.0\n",
            "11  70.0   naimur   10.0   70.0    70.0\n",
            "12  17.0   naimur   12.0   20.0    20.0\n",
            "13  12.0     abdu   23.0   66.0    18.0\n",
            "14  22.0    rhhim   23.0   66.0    66.0\n",
            "15  22.0    rhhim   35.0   88.0    18.0\n",
            "16  44.0    rhhim   60.0   88.0    18.0\n",
            "17  66.0  rohoman   33.0   88.0    88.0\n",
            "18  77.0     aman   33.0  777.0   777.0\n",
            "19  77.0    rohan   33.0  666.0   666.0\n",
            "20  66.0    rohan   55.0  555.0   555.0\n",
            "21  66.0    tomal   55.0  333.0   333.0\n",
            "22  66.0    tamim   44.0  222.0   222.0\n",
            "23  77.0    rihan   66.0  111.0   111.0\n"
          ]
        },
        {
          "output_type": "stream",
          "name": "stderr",
          "text": [
            "<ipython-input-28-f099e310696e>:1: FutureWarning: DataFrame.fillna with 'method' is deprecated and will raise in a future version. Use obj.ffill() or obj.bfill() instead.\n",
            "  print(df.fillna(method='bfill'))\n"
          ]
        }
      ]
    },
    {
      "cell_type": "code",
      "source": [
        "print(df)"
      ],
      "metadata": {
        "colab": {
          "base_uri": "https://localhost:8080/"
        },
        "id": "IAmKDmxkZGbf",
        "outputId": "61cb9a91-512a-48a4-cd7b-2d6707ec8624"
      },
      "execution_count": null,
      "outputs": [
        {
          "output_type": "stream",
          "name": "stdout",
          "text": [
            "      id     name  class    age  salary\n",
            "0   11.0    kamal    1.0   23.0    23.0\n",
            "1   22.0    jamal    2.0   24.0    24.0\n",
            "2   33.0  hossain    3.0   25.0    25.0\n",
            "3   44.0  rohaman    4.0   26.0    26.0\n",
            "4   11.0    kamal    1.0   23.0    23.0\n",
            "5   55.0     amir    5.0   28.0    28.0\n",
            "6   55.0     amir    5.0   28.0    28.0\n",
            "7   66.0    jamir    6.0   30.0    30.0\n",
            "8   67.0   tamim     7.0   25.0    25.0\n",
            "9   68.0   tamim     8.0   40.0    40.0\n",
            "10  69.0   najmol    9.0   40.0    40.0\n",
            "11  70.0   naimur   10.0   70.0    70.0\n",
            "12  17.0   naimur   12.0   20.0    20.0\n",
            "13  12.0     abdu    NaN    NaN    18.0\n",
            "14   NaN      NaN   23.0   66.0    66.0\n",
            "15  22.0      NaN   35.0    NaN    18.0\n",
            "16  44.0    rhhim   60.0    NaN    18.0\n",
            "17  66.0  rohoman    NaN   88.0    88.0\n",
            "18   NaN     aman    NaN  777.0   777.0\n",
            "19  77.0      NaN   33.0  666.0   666.0\n",
            "20   NaN    rohan    NaN  555.0   555.0\n",
            "21   NaN    tomal   55.0  333.0   333.0\n",
            "22  66.0    tamim   44.0  222.0   222.0\n",
            "23  77.0    rihan   66.0  111.0   111.0\n"
          ]
        }
      ]
    },
    {
      "cell_type": "code",
      "source": [
        "print(df.fillna(method='ffill'))"
      ],
      "metadata": {
        "colab": {
          "base_uri": "https://localhost:8080/"
        },
        "id": "tPqXyCKrZGrv",
        "outputId": "ea41f0ae-27cf-48d4-f9fa-7ada3007cef0"
      },
      "execution_count": null,
      "outputs": [
        {
          "output_type": "stream",
          "name": "stdout",
          "text": [
            "      id     name  class    age  salary\n",
            "0   11.0    kamal    1.0   23.0    23.0\n",
            "1   22.0    jamal    2.0   24.0    24.0\n",
            "2   33.0  hossain    3.0   25.0    25.0\n",
            "3   44.0  rohaman    4.0   26.0    26.0\n",
            "4   11.0    kamal    1.0   23.0    23.0\n",
            "5   55.0     amir    5.0   28.0    28.0\n",
            "6   55.0     amir    5.0   28.0    28.0\n",
            "7   66.0    jamir    6.0   30.0    30.0\n",
            "8   67.0   tamim     7.0   25.0    25.0\n",
            "9   68.0   tamim     8.0   40.0    40.0\n",
            "10  69.0   najmol    9.0   40.0    40.0\n",
            "11  70.0   naimur   10.0   70.0    70.0\n",
            "12  17.0   naimur   12.0   20.0    20.0\n",
            "13  12.0     abdu   12.0   20.0    18.0\n",
            "14  12.0     abdu   23.0   66.0    66.0\n",
            "15  22.0     abdu   35.0   66.0    18.0\n",
            "16  44.0    rhhim   60.0   66.0    18.0\n",
            "17  66.0  rohoman   60.0   88.0    88.0\n",
            "18  66.0     aman   60.0  777.0   777.0\n",
            "19  77.0     aman   33.0  666.0   666.0\n",
            "20  77.0    rohan   33.0  555.0   555.0\n",
            "21  77.0    tomal   55.0  333.0   333.0\n",
            "22  66.0    tamim   44.0  222.0   222.0\n",
            "23  77.0    rihan   66.0  111.0   111.0\n"
          ]
        },
        {
          "output_type": "stream",
          "name": "stderr",
          "text": [
            "<ipython-input-30-e3033473c0e7>:1: FutureWarning: DataFrame.fillna with 'method' is deprecated and will raise in a future version. Use obj.ffill() or obj.bfill() instead.\n",
            "  print(df.fillna(method='ffill'))\n"
          ]
        }
      ]
    },
    {
      "cell_type": "code",
      "source": [
        "df = pd.read_excel('for.xlsx')\n",
        "\n",
        "print(df)"
      ],
      "metadata": {
        "colab": {
          "base_uri": "https://localhost:8080/"
        },
        "id": "o61n3WJ9gmvc",
        "outputId": "e66d1a3a-db43-4094-c4f1-16dd9aad97ce"
      },
      "execution_count": null,
      "outputs": [
        {
          "output_type": "stream",
          "name": "stdout",
          "text": [
            "    id     name  class  age  bonous first name last name  salary\n",
            "0   11    kamal      1   23    0.15     aboul        mia   20000\n",
            "1   22    jamal      2   24    0.30      kalam       mia   30000\n",
            "2   33  hossain      3   25    0.00      niyaj       mia   40000\n",
            "3   44  rohaman      4   26    0.40     faraji       mia   50000\n",
            "4   11    kamal      1   23    0.60      habib       mia   60000\n",
            "5   55     amir      5   28    0.60      karim       mia   70000\n",
            "6   55     amir      5   28    0.20       amin       mia   80000\n",
            "7   66    jamir      6   30    0.00      rohim       mia   90000\n",
            "8   67   tamim       7   25    0.00    rohoman       mia   30000\n",
            "9   68   tamim       8   40    0.15       aksh       mia   40000\n",
            "10  69   najmol      9   40    0.25      ashok       mia   50000\n",
            "11  70   naimur     10   70    0.60      usiof       mia   60000\n",
            "12  17   naimur     12   20    0.00      tamim       mia   70000\n"
          ]
        }
      ]
    },
    {
      "cell_type": "code",
      "source": [
        "df.loc[(df['bonous']==0) , 'get_bonous'] = 'nobonous'           ### This is column trnsformation\n",
        "df.loc[(df['bonous']!=0) , 'get_bonous'] = 'bonous'\n",
        "                                           ### I did not understand why provide this error\n",
        "print(df)"
      ],
      "metadata": {
        "colab": {
          "base_uri": "https://localhost:8080/"
        },
        "id": "rKShqgYDgnCM",
        "outputId": "852738cc-11c9-4be6-92c1-2f1fdf19890d"
      },
      "execution_count": null,
      "outputs": [
        {
          "output_type": "stream",
          "name": "stdout",
          "text": [
            "    id     name  class  age  bonous first name last name  salary get_bonous\n",
            "0   11    kamal      1   23    0.15     aboul        mia   20000     bonous\n",
            "1   22    jamal      2   24    0.30      kalam       mia   30000     bonous\n",
            "2   33  hossain      3   25    0.00      niyaj       mia   40000   nobonous\n",
            "3   44  rohaman      4   26    0.40     faraji       mia   50000     bonous\n",
            "4   11    kamal      1   23    0.60      habib       mia   60000     bonous\n",
            "5   55     amir      5   28    0.60      karim       mia   70000     bonous\n",
            "6   55     amir      5   28    0.20       amin       mia   80000     bonous\n",
            "7   66    jamir      6   30    0.00      rohim       mia   90000   nobonous\n",
            "8   67   tamim       7   25    0.00    rohoman       mia   30000   nobonous\n",
            "9   68   tamim       8   40    0.15       aksh       mia   40000     bonous\n",
            "10  69   najmol      9   40    0.25      ashok       mia   50000     bonous\n",
            "11  70   naimur     10   70    0.60      usiof       mia   60000     bonous\n",
            "12  17   naimur     12   20    0.00      tamim       mia   70000   nobonous\n"
          ]
        }
      ]
    },
    {
      "cell_type": "code",
      "source": [
        "print(df)"
      ],
      "metadata": {
        "colab": {
          "base_uri": "https://localhost:8080/"
        },
        "id": "v-xHAf9dgnUU",
        "outputId": "7df25715-c41c-4236-b98b-1d9be293c42b"
      },
      "execution_count": null,
      "outputs": [
        {
          "output_type": "stream",
          "name": "stdout",
          "text": [
            "    id     name  class  age  bonous first name last name  salary get_bonous\n",
            "0   11    kamal      1   23    0.15     aboul        mia   20000     bonous\n",
            "1   22    jamal      2   24    0.30      kalam       mia   30000     bonous\n",
            "2   33  hossain      3   25    0.00      niyaj       mia   40000   nobonous\n",
            "3   44  rohaman      4   26    0.40     faraji       mia   50000     bonous\n",
            "4   11    kamal      1   23    0.60      habib       mia   60000     bonous\n",
            "5   55     amir      5   28    0.60      karim       mia   70000     bonous\n",
            "6   55     amir      5   28    0.20       amin       mia   80000     bonous\n",
            "7   66    jamir      6   30    0.00      rohim       mia   90000   nobonous\n",
            "8   67   tamim       7   25    0.00    rohoman       mia   30000   nobonous\n",
            "9   68   tamim       8   40    0.15       aksh       mia   40000     bonous\n",
            "10  69   najmol      9   40    0.25      ashok       mia   50000     bonous\n",
            "11  70   naimur     10   70    0.60      usiof       mia   60000     bonous\n",
            "12  17   naimur     12   20    0.00      tamim       mia   70000   nobonous\n"
          ]
        }
      ]
    },
    {
      "cell_type": "code",
      "source": [
        "df['fullname'] = df['first name'] + ' ' + df['last name']\n",
        "print(df)"
      ],
      "metadata": {
        "colab": {
          "base_uri": "https://localhost:8080/"
        },
        "id": "_y35P9f8gnuk",
        "outputId": "33405263-ee61-4ab3-986d-5f68d28c255d"
      },
      "execution_count": null,
      "outputs": [
        {
          "output_type": "stream",
          "name": "stdout",
          "text": [
            "    id     name  class  age  bonous first name last name  salary get_bonous  \\\n",
            "0   11    kamal      1   23    0.15     aboul        mia   20000     bonous   \n",
            "1   22    jamal      2   24    0.30      kalam       mia   30000     bonous   \n",
            "2   33  hossain      3   25    0.00      niyaj       mia   40000   nobonous   \n",
            "3   44  rohaman      4   26    0.40     faraji       mia   50000     bonous   \n",
            "4   11    kamal      1   23    0.60      habib       mia   60000     bonous   \n",
            "5   55     amir      5   28    0.60      karim       mia   70000     bonous   \n",
            "6   55     amir      5   28    0.20       amin       mia   80000     bonous   \n",
            "7   66    jamir      6   30    0.00      rohim       mia   90000   nobonous   \n",
            "8   67   tamim       7   25    0.00    rohoman       mia   30000   nobonous   \n",
            "9   68   tamim       8   40    0.15       aksh       mia   40000     bonous   \n",
            "10  69   najmol      9   40    0.25      ashok       mia   50000     bonous   \n",
            "11  70   naimur     10   70    0.60      usiof       mia   60000     bonous   \n",
            "12  17   naimur     12   20    0.00      tamim       mia   70000   nobonous   \n",
            "\n",
            "       fullname  \n",
            "0    aboul  mia  \n",
            "1     kalam mia  \n",
            "2     niyaj mia  \n",
            "3    faraji mia  \n",
            "4     habib mia  \n",
            "5     karim mia  \n",
            "6      amin mia  \n",
            "7     rohim mia  \n",
            "8   rohoman mia  \n",
            "9      aksh mia  \n",
            "10    ashok mia  \n",
            "11    usiof mia  \n",
            "12    tamim mia  \n"
          ]
        }
      ]
    },
    {
      "cell_type": "code",
      "source": [
        "print(df)"
      ],
      "metadata": {
        "colab": {
          "base_uri": "https://localhost:8080/"
        },
        "id": "9eHQV2BUgn-c",
        "outputId": "7227ac1d-b970-4c54-8274-8446e81eb286"
      },
      "execution_count": null,
      "outputs": [
        {
          "output_type": "stream",
          "name": "stdout",
          "text": [
            "    id     name  class  age  bonous first name last name  salary get_bonous  \\\n",
            "0   11    kamal      1   23    0.15     aboul        mia   20000     bonous   \n",
            "1   22    jamal      2   24    0.30      kalam       mia   30000     bonous   \n",
            "2   33  hossain      3   25    0.00      niyaj       mia   40000   nobonous   \n",
            "3   44  rohaman      4   26    0.40     faraji       mia   50000     bonous   \n",
            "4   11    kamal      1   23    0.60      habib       mia   60000     bonous   \n",
            "5   55     amir      5   28    0.60      karim       mia   70000     bonous   \n",
            "6   55     amir      5   28    0.20       amin       mia   80000     bonous   \n",
            "7   66    jamir      6   30    0.00      rohim       mia   90000   nobonous   \n",
            "8   67   tamim       7   25    0.00    rohoman       mia   30000   nobonous   \n",
            "9   68   tamim       8   40    0.15       aksh       mia   40000     bonous   \n",
            "10  69   najmol      9   40    0.25      ashok       mia   50000     bonous   \n",
            "11  70   naimur     10   70    0.60      usiof       mia   60000     bonous   \n",
            "12  17   naimur     12   20    0.00      tamim       mia   70000   nobonous   \n",
            "\n",
            "       fullname  \n",
            "0    aboul  mia  \n",
            "1     kalam mia  \n",
            "2     niyaj mia  \n",
            "3    faraji mia  \n",
            "4     habib mia  \n",
            "5     karim mia  \n",
            "6      amin mia  \n",
            "7     rohim mia  \n",
            "8   rohoman mia  \n",
            "9      aksh mia  \n",
            "10    ashok mia  \n",
            "11    usiof mia  \n",
            "12    tamim mia  \n"
          ]
        }
      ]
    },
    {
      "cell_type": "code",
      "source": [
        "df['bobus_tk_20%'] = df['salary']//100*20\n",
        "\n",
        "print(df)"
      ],
      "metadata": {
        "colab": {
          "base_uri": "https://localhost:8080/"
        },
        "id": "vIxl3p6JgoNk",
        "outputId": "cd16ce44-8e1a-4c9b-b6ae-c5b45e0a3848"
      },
      "execution_count": null,
      "outputs": [
        {
          "output_type": "stream",
          "name": "stdout",
          "text": [
            "    id     name  class  age  bonous first name last name  salary get_bonous  \\\n",
            "0   11    kamal      1   23    0.15     aboul        mia   20000     bonous   \n",
            "1   22    jamal      2   24    0.30      kalam       mia   30000     bonous   \n",
            "2   33  hossain      3   25    0.00      niyaj       mia   40000   nobonous   \n",
            "3   44  rohaman      4   26    0.40     faraji       mia   50000     bonous   \n",
            "4   11    kamal      1   23    0.60      habib       mia   60000     bonous   \n",
            "5   55     amir      5   28    0.60      karim       mia   70000     bonous   \n",
            "6   55     amir      5   28    0.20       amin       mia   80000     bonous   \n",
            "7   66    jamir      6   30    0.00      rohim       mia   90000   nobonous   \n",
            "8   67   tamim       7   25    0.00    rohoman       mia   30000   nobonous   \n",
            "9   68   tamim       8   40    0.15       aksh       mia   40000     bonous   \n",
            "10  69   najmol      9   40    0.25      ashok       mia   50000     bonous   \n",
            "11  70   naimur     10   70    0.60      usiof       mia   60000     bonous   \n",
            "12  17   naimur     12   20    0.00      tamim       mia   70000   nobonous   \n",
            "\n",
            "       fullname  bobus_tk_20%  \n",
            "0    aboul  mia          4000  \n",
            "1     kalam mia          6000  \n",
            "2     niyaj mia          8000  \n",
            "3    faraji mia         10000  \n",
            "4     habib mia         12000  \n",
            "5     karim mia         14000  \n",
            "6      amin mia         16000  \n",
            "7     rohim mia         18000  \n",
            "8   rohoman mia          6000  \n",
            "9      aksh mia          8000  \n",
            "10    ashok mia         10000  \n",
            "11    usiof mia         12000  \n",
            "12    tamim mia         14000  \n"
          ]
        }
      ]
    },
    {
      "cell_type": "code",
      "source": [
        "data = {'months': ['january','febuary','march','april','may','jun','july','agust','september']}\n",
        "\n",
        "data = pd.DataFrame(data)\n",
        "\n",
        "print(data)"
      ],
      "metadata": {
        "colab": {
          "base_uri": "https://localhost:8080/"
        },
        "id": "RWXho5YFgod8",
        "outputId": "dccf25a4-044a-4a92-f72a-9b2d336f6e2d"
      },
      "execution_count": null,
      "outputs": [
        {
          "output_type": "stream",
          "name": "stdout",
          "text": [
            "      months\n",
            "0    january\n",
            "1    febuary\n",
            "2      march\n",
            "3      april\n",
            "4        may\n",
            "5        jun\n",
            "6       july\n",
            "7      agust\n",
            "8  september\n"
          ]
        }
      ]
    },
    {
      "cell_type": "code",
      "source": [
        "def extract(value):\n",
        "  return value[0:3]\n",
        "\n",
        "data['short_month']=data['months'].map(extract)\n",
        "\n",
        "print(data)"
      ],
      "metadata": {
        "colab": {
          "base_uri": "https://localhost:8080/"
        },
        "id": "c2zWD9D6xYy2",
        "outputId": "4ec03e8a-2ab1-4f62-e3a2-5da959ee4447"
      },
      "execution_count": null,
      "outputs": [
        {
          "output_type": "stream",
          "name": "stdout",
          "text": [
            "      months short_month\n",
            "0    january         jan\n",
            "1    febuary         feb\n",
            "2      march         mar\n",
            "3      april         apr\n",
            "4        may         may\n",
            "5        jun         jun\n",
            "6       july         jul\n",
            "7      agust         agu\n",
            "8  september         sep\n"
          ]
        }
      ]
    },
    {
      "cell_type": "code",
      "source": [
        "print(df)"
      ],
      "metadata": {
        "colab": {
          "base_uri": "https://localhost:8080/"
        },
        "id": "3RWr8ZeugotE",
        "outputId": "64879fd7-d292-46c7-99ec-19e410f05d78"
      },
      "execution_count": null,
      "outputs": [
        {
          "output_type": "stream",
          "name": "stdout",
          "text": [
            "    id     name  class  age  bonous first name last name  salary get_bonous  \\\n",
            "0   11    kamal      1   23    0.15     aboul        mia   20000     bonous   \n",
            "1   22    jamal      2   24    0.30      kalam       mia   30000     bonous   \n",
            "2   33  hossain      3   25    0.00      niyaj       mia   40000   nobonous   \n",
            "3   44  rohaman      4   26    0.40     faraji       mia   50000     bonous   \n",
            "4   11    kamal      1   23    0.60      habib       mia   60000     bonous   \n",
            "5   55     amir      5   28    0.60      karim       mia   70000     bonous   \n",
            "6   55     amir      5   28    0.20       amin       mia   80000     bonous   \n",
            "7   66    jamir      6   30    0.00      rohim       mia   90000   nobonous   \n",
            "8   67   tamim       7   25    0.00    rohoman       mia   30000   nobonous   \n",
            "9   68   tamim       8   40    0.15       aksh       mia   40000     bonous   \n",
            "10  69   najmol      9   40    0.25      ashok       mia   50000     bonous   \n",
            "11  70   naimur     10   70    0.60      usiof       mia   60000     bonous   \n",
            "12  17   naimur     12   20    0.00      tamim       mia   70000   nobonous   \n",
            "\n",
            "       fullname  bobus_tk_20%  \n",
            "0    aboul  mia          4000  \n",
            "1     kalam mia          6000  \n",
            "2     niyaj mia          8000  \n",
            "3    faraji mia         10000  \n",
            "4     habib mia         12000  \n",
            "5     karim mia         14000  \n",
            "6      amin mia         16000  \n",
            "7     rohim mia         18000  \n",
            "8   rohoman mia          6000  \n",
            "9      aksh mia          8000  \n",
            "10    ashok mia         10000  \n",
            "11    usiof mia         12000  \n",
            "12    tamim mia         14000  \n"
          ]
        }
      ]
    },
    {
      "cell_type": "code",
      "source": [],
      "metadata": {
        "id": "zJYChUz5zCbS"
      },
      "execution_count": null,
      "outputs": []
    },
    {
      "cell_type": "code",
      "source": [
        "pd.read_excel('for.xlsx')\n",
        "\n",
        "print(df)\n",
        "\n",
        "\n"
      ],
      "metadata": {
        "colab": {
          "base_uri": "https://localhost:8080/"
        },
        "id": "zYT_BgIsDRCd",
        "outputId": "fc5733e9-4c12-40ad-9f59-9992fb58a4c2"
      },
      "execution_count": null,
      "outputs": [
        {
          "output_type": "stream",
          "name": "stdout",
          "text": [
            "    id     name  class  age  bonous first name last name  salary get_bonous  \\\n",
            "0   11    kamal      1   23    0.15     aboul        mia   20000     bonous   \n",
            "1   22    jamal      2   24    0.30      kalam       mia   30000     bonous   \n",
            "2   33  hossain      3   25    0.00      niyaj       mia   40000   nobonous   \n",
            "3   44  rohaman      4   26    0.40     faraji       mia   50000     bonous   \n",
            "4   11    kamal      1   23    0.60      habib       mia   60000     bonous   \n",
            "5   55     amir      5   28    0.60      karim       mia   70000     bonous   \n",
            "6   55     amir      5   28    0.20       amin       mia   80000     bonous   \n",
            "7   66    jamir      6   30    0.00      rohim       mia   90000   nobonous   \n",
            "8   67   tamim       7   25    0.00    rohoman       mia   30000   nobonous   \n",
            "9   68   tamim       8   40    0.15       aksh       mia   40000     bonous   \n",
            "10  69   najmol      9   40    0.25      ashok       mia   50000     bonous   \n",
            "11  70   naimur     10   70    0.60      usiof       mia   60000     bonous   \n",
            "12  17   naimur     12   20    0.00      tamim       mia   70000   nobonous   \n",
            "\n",
            "       fullname  bobus_tk_20%  \n",
            "0    aboul  mia          4000  \n",
            "1     kalam mia          6000  \n",
            "2     niyaj mia          8000  \n",
            "3    faraji mia         10000  \n",
            "4     habib mia         12000  \n",
            "5     karim mia         14000  \n",
            "6      amin mia         16000  \n",
            "7     rohim mia         18000  \n",
            "8   rohoman mia          6000  \n",
            "9      aksh mia          8000  \n",
            "10    ashok mia         10000  \n",
            "11    usiof mia         12000  \n",
            "12    tamim mia         14000  \n"
          ]
        }
      ]
    },
    {
      "cell_type": "code",
      "source": [
        "gb = df.groupby('name').agg({'salary':'count'})\n",
        "print(gb)"
      ],
      "metadata": {
        "id": "ETy7AgG8gpnk",
        "colab": {
          "base_uri": "https://localhost:8080/"
        },
        "outputId": "9a63353b-969a-4c89-974b-52ac01ef81a3"
      },
      "execution_count": null,
      "outputs": [
        {
          "output_type": "stream",
          "name": "stdout",
          "text": [
            "         salary\n",
            "name           \n",
            "amir          2\n",
            "hossain       1\n",
            "jamal         1\n",
            "jamir         1\n",
            "kamal         2\n",
            "naimur        2\n",
            "najmol        1\n",
            "rohaman       1\n",
            "tamim         2\n"
          ]
        }
      ]
    },
    {
      "cell_type": "code",
      "source": [
        "gb = df.groupby(['name','class','salary']).agg({'salary':'count'})\n",
        "print(gb)"
      ],
      "metadata": {
        "id": "8T3JASEtgp5D",
        "colab": {
          "base_uri": "https://localhost:8080/"
        },
        "outputId": "8a85ed1e-df34-4675-d709-5bf073287ff5"
      },
      "execution_count": null,
      "outputs": [
        {
          "output_type": "stream",
          "name": "stdout",
          "text": [
            "                      salary\n",
            "name    class salary        \n",
            "amir    5     70000        1\n",
            "              80000        1\n",
            "hossain 3     40000        1\n",
            "jamal   2     30000        1\n",
            "jamir   6     90000        1\n",
            "kamal   1     20000        1\n",
            "              60000        1\n",
            "naimur  10    60000        1\n",
            "        12    70000        1\n",
            "najmol  9     50000        1\n",
            "rohaman 4     50000        1\n",
            "tamim   7     30000        1\n",
            "        8     40000        1\n"
          ]
        }
      ]
    },
    {
      "cell_type": "code",
      "source": [
        "##### marge"
      ],
      "metadata": {
        "id": "zE8uJTP-gqIc"
      },
      "execution_count": null,
      "outputs": []
    },
    {
      "cell_type": "code",
      "source": [
        "data1 = {'em_id': ['e1','e2','e3','e4','e5','e6'],\n",
        "         'names':['kamal','hossain','rana','rohaman','rohan','rahim'],\n",
        "         'age':[23,24,25,26,27,28]}\n",
        "\n",
        "\n",
        "\n",
        "data2 = {'em_id': ['e1','e2','e3','e4','e5','e6'],\n",
        "         'salary':[40000,50000,60000,70000,80000,90000]}\n",
        "\n",
        "\n",
        "df1 = pd.DataFrame(data1)\n",
        "df2 = pd.DataFrame(data2)\n",
        "\n",
        "\n",
        "print(df1)\n",
        "print()\n",
        "print(df2)"
      ],
      "metadata": {
        "id": "Qe7QWcFYgqXl",
        "colab": {
          "base_uri": "https://localhost:8080/"
        },
        "outputId": "a0d059d5-403f-4162-e60e-9d57e467a76a"
      },
      "execution_count": null,
      "outputs": [
        {
          "output_type": "stream",
          "name": "stdout",
          "text": [
            "  em_id    names  age\n",
            "0    e1    kamal   23\n",
            "1    e2  hossain   24\n",
            "2    e3     rana   25\n",
            "3    e4  rohaman   26\n",
            "4    e5    rohan   27\n",
            "5    e6    rahim   28\n",
            "\n",
            "  em_id  salary\n",
            "0    e1   40000\n",
            "1    e2   50000\n",
            "2    e3   60000\n",
            "3    e4   70000\n",
            "4    e5   80000\n",
            "5    e6   90000\n"
          ]
        }
      ]
    },
    {
      "cell_type": "code",
      "source": [
        "merg = pd.merge(df1,df2,on='em_id')\n",
        "print(merg)"
      ],
      "metadata": {
        "id": "3og8yv1tgql8",
        "colab": {
          "base_uri": "https://localhost:8080/"
        },
        "outputId": "1a0c580f-413e-44c7-8cb6-85498be61118"
      },
      "execution_count": null,
      "outputs": [
        {
          "output_type": "stream",
          "name": "stdout",
          "text": [
            "  em_id    names  age  salary\n",
            "0    e1    kamal   23   40000\n",
            "1    e2  hossain   24   50000\n",
            "2    e3     rana   25   60000\n",
            "3    e4  rohaman   26   70000\n",
            "4    e5    rohan   27   80000\n",
            "5    e6    rahim   28   90000\n"
          ]
        }
      ]
    },
    {
      "cell_type": "code",
      "source": [],
      "metadata": {
        "id": "KzNCPVaWRXS8"
      },
      "execution_count": null,
      "outputs": []
    },
    {
      "cell_type": "code",
      "source": [
        "data1 = {'em_id': ['e1','e2','e3','e4','e5','e6'],\n",
        "         'names':['kamal','hossain','rana','rohaman','rohan','rahim'],\n",
        "         'age':[23,24,25,26,27,28]}\n",
        "\n",
        "\n",
        "\n",
        "data2 = {'em_id': ['e1','e2','e8','e4','e5','e9'],\n",
        "         'salary':[40000,50000,60000,' ',80000,90000]}\n",
        "\n",
        "\n",
        "df1 = pd.DataFrame(data1)\n",
        "df2 = pd.DataFrame(data2)\n",
        "\n",
        "\n",
        "print(df1)\n",
        "print()\n",
        "print(df2)"
      ],
      "metadata": {
        "colab": {
          "base_uri": "https://localhost:8080/"
        },
        "id": "NybFUuafRXsC",
        "outputId": "17975162-4860-42f3-f540-87503f0784a6"
      },
      "execution_count": null,
      "outputs": [
        {
          "output_type": "stream",
          "name": "stdout",
          "text": [
            "  em_id    names  age\n",
            "0    e1    kamal   23\n",
            "1    e2  hossain   24\n",
            "2    e3     rana   25\n",
            "3    e4  rohaman   26\n",
            "4    e5    rohan   27\n",
            "5    e6    rahim   28\n",
            "\n",
            "  em_id salary\n",
            "0    e1  40000\n",
            "1    e2  50000\n",
            "2    e8  60000\n",
            "3    e4       \n",
            "4    e5  80000\n",
            "5    e9  90000\n"
          ]
        }
      ]
    },
    {
      "cell_type": "code",
      "source": [
        "merg = pd.merge(df1,df2,on='em_id',how='inner')\n",
        "print(merg)                  ### inner join this provide all common valve through em_id"
      ],
      "metadata": {
        "colab": {
          "base_uri": "https://localhost:8080/"
        },
        "id": "FngZD8PfRX_S",
        "outputId": "0598e284-d1b6-4e1b-d934-cb302131203c"
      },
      "execution_count": null,
      "outputs": [
        {
          "output_type": "stream",
          "name": "stdout",
          "text": [
            "  em_id    names  age salary\n",
            "0    e1    kamal   23  40000\n",
            "1    e2  hossain   24  50000\n",
            "2    e4  rohaman   26       \n",
            "3    e5    rohan   27  80000\n"
          ]
        }
      ]
    },
    {
      "cell_type": "code",
      "source": [
        "merg = pd.merge(left = df1,right = df2,on='em_id',how='left')\n",
        "print(merg)                  ### left join this provide all common valve through em_id"
      ],
      "metadata": {
        "colab": {
          "base_uri": "https://localhost:8080/"
        },
        "id": "_CkvxuocRYPi",
        "outputId": "e8ddbf1c-e431-4b2c-bede-6386ef1e7b20"
      },
      "execution_count": null,
      "outputs": [
        {
          "output_type": "stream",
          "name": "stdout",
          "text": [
            "  em_id    names  age salary\n",
            "0    e1    kamal   23  40000\n",
            "1    e2  hossain   24  50000\n",
            "2    e3     rana   25    NaN\n",
            "3    e4  rohaman   26       \n",
            "4    e5    rohan   27  80000\n",
            "5    e6    rahim   28    NaN\n"
          ]
        }
      ]
    },
    {
      "cell_type": "code",
      "source": [
        "merg = pd.merge(left = df1,right = df2,on='em_id',how='right')\n",
        "print(merg)                  ### right join this provide all common valve through em_id"
      ],
      "metadata": {
        "colab": {
          "base_uri": "https://localhost:8080/"
        },
        "id": "zpm1P4npRYnx",
        "outputId": "690f29fd-2544-419f-de9d-5f561d691eb8"
      },
      "execution_count": null,
      "outputs": [
        {
          "output_type": "stream",
          "name": "stdout",
          "text": [
            "  em_id    names   age salary\n",
            "0    e1    kamal  23.0  40000\n",
            "1    e2  hossain  24.0  50000\n",
            "2    e8      NaN   NaN  60000\n",
            "3    e4  rohaman  26.0       \n",
            "4    e5    rohan  27.0  80000\n",
            "5    e9      NaN   NaN  90000\n"
          ]
        }
      ]
    },
    {
      "cell_type": "code",
      "source": [
        "#### joint"
      ],
      "metadata": {
        "id": "azsKIZsxRY5y"
      },
      "execution_count": null,
      "outputs": []
    },
    {
      "cell_type": "code",
      "source": [
        "d1 = {'id':[1,2,3,4,5,6,7],\n",
        "      'name':['kamal','hossain','rohaman','amir','namir','karim','alom']}\n",
        "\n",
        "d2 = {'id':[1,2,3,4,5,6,7],\n",
        "       'sub':['a','b','c','d','e','f','g']}\n",
        "\n",
        "\n",
        "\n",
        "d3 = {'id':[1,2,3,4,5,6,7],\n",
        "      'age':[23,24,25,26,27,28,29]}\n",
        "\n",
        "\n",
        "df1 = pd.DataFrame(d1)\n",
        "df2 = pd.DataFrame(d2)\n",
        "df3 = pd.DataFrame(d3)\n",
        "\n",
        "print(df1)\n",
        "print()\n",
        "print(df2)\n",
        "print()\n",
        "print(df3)\n",
        "\n",
        "\n",
        "\n",
        "  ###### how can join in this  thre id\n"
      ],
      "metadata": {
        "colab": {
          "base_uri": "https://localhost:8080/",
          "height": 106
        },
        "id": "Po1mzdh-RZIq",
        "outputId": "9532df74-b125-453b-f9c9-5aa23eb96a64"
      },
      "execution_count": null,
      "outputs": [
        {
          "output_type": "error",
          "ename": "SyntaxError",
          "evalue": "invalid syntax. Maybe you meant '==' or ':=' instead of '='? (<ipython-input-105-016b39f0b4d1>, line 25)",
          "traceback": [
            "\u001b[0;36m  File \u001b[0;32m\"<ipython-input-105-016b39f0b4d1>\"\u001b[0;36m, line \u001b[0;32m25\u001b[0m\n\u001b[0;31m    j = df1.join([df2.set_index('id'),on='id',df3.set_index('id'),on='id'])\u001b[0m\n\u001b[0m                                      ^\u001b[0m\n\u001b[0;31mSyntaxError\u001b[0m\u001b[0;31m:\u001b[0m invalid syntax. Maybe you meant '==' or ':=' instead of '='?\n"
          ]
        }
      ]
    },
    {
      "cell_type": "code",
      "source": [],
      "metadata": {
        "id": "J8mT8itoRZuy"
      },
      "execution_count": null,
      "outputs": []
    },
    {
      "cell_type": "code",
      "source": [
        "data1 = {'em_id': ['e1','e2','e3','e4','e5','e6'],\n",
        "         'names':['kamal','hossain','rana','rohaman','rohan','rahim'],\n",
        "         'age':[33,44,55,66,77,88]}\n",
        "\n",
        "data2 = {'em_id': ['e1','e7','e3','e9','e5','e10'],\n",
        "         'names':['amir','jamir','samir','mahir','anom','tanim'],\n",
        "         'age':[23,24,25,26,27,28]}\n",
        "\n",
        "data3 = {'em_id': ['e5','e8','e3','e4','e5','e11'],\n",
        "         'names':['shahidu','sohan','ikram','sohan','abir','karim'],\n",
        "         'age':[54,34,40,36,35,50]}\n",
        "\n",
        "\n",
        "\n",
        "df1 = pd.DataFrame(data1)\n",
        "df2 = pd.DataFrame(data2)\n",
        "df3 = pd.DataFrame(data3)\n",
        "\n",
        "print(df1)\n",
        "print()\n",
        "print(df2)\n",
        "print()\n",
        "print(df3)\n",
        "\n",
        "con = pd.concat([df1,df2,df3])\n",
        "print(con)\n"
      ],
      "metadata": {
        "colab": {
          "base_uri": "https://localhost:8080/"
        },
        "id": "UuEmZA0gghON",
        "outputId": "b27a42c4-20f1-4ad5-e8d4-91e222608d19"
      },
      "execution_count": null,
      "outputs": [
        {
          "output_type": "stream",
          "name": "stdout",
          "text": [
            "  em_id    names  age\n",
            "0    e1    kamal   33\n",
            "1    e2  hossain   44\n",
            "2    e3     rana   55\n",
            "3    e4  rohaman   66\n",
            "4    e5    rohan   77\n",
            "5    e6    rahim   88\n",
            "\n",
            "  em_id  names  age\n",
            "0    e1   amir   23\n",
            "1    e7  jamir   24\n",
            "2    e3  samir   25\n",
            "3    e9  mahir   26\n",
            "4    e5   anom   27\n",
            "5   e10  tanim   28\n",
            "\n",
            "  em_id    names  age\n",
            "0    e5  shahidu   54\n",
            "1    e8    sohan   34\n",
            "2    e3    ikram   40\n",
            "3    e4    sohan   36\n",
            "4    e5     abir   35\n",
            "5   e11    karim   50\n",
            "  em_id    names  age\n",
            "0    e1    kamal   33\n",
            "1    e2  hossain   44\n",
            "2    e3     rana   55\n",
            "3    e4  rohaman   66\n",
            "4    e5    rohan   77\n",
            "5    e6    rahim   88\n",
            "0    e1     amir   23\n",
            "1    e7    jamir   24\n",
            "2    e3    samir   25\n",
            "3    e9    mahir   26\n",
            "4    e5     anom   27\n",
            "5   e10    tanim   28\n",
            "0    e5  shahidu   54\n",
            "1    e8    sohan   34\n",
            "2    e3    ikram   40\n",
            "3    e4    sohan   36\n",
            "4    e5     abir   35\n",
            "5   e11    karim   50\n"
          ]
        }
      ]
    },
    {
      "cell_type": "code",
      "source": [
        "#### change in dataframe\n",
        "\n",
        "\n",
        "data = {\"fruits\":['apple','banana','cherry','lichi'],\n",
        "        'price':[100,200,300,400],\n",
        "        'quantity':[15,10,20,30]}\n",
        "\n",
        "df1 = pd.DataFrame(data)\n",
        "\n",
        "print(df1)\n",
        "\n",
        "df2 = df1.copy()\n",
        "\n",
        "df2.loc[0,'fruits'] = 'kiwi'\n",
        "df2.loc[3,'fruits'] = 'watermelon'\n",
        "df2.loc[0,'price'] = 400\n",
        "df2.loc[3,'price'] = 500\n",
        "df2.loc[0,'quantity'] = 40\n",
        "df2.loc[3,'quantity'] = 50\n",
        "\n",
        "print()\n",
        "\n",
        "print()\n",
        "\n",
        "print(df2)"
      ],
      "metadata": {
        "colab": {
          "base_uri": "https://localhost:8080/"
        },
        "id": "_uvsVNz5ghlc",
        "outputId": "9153e97f-93d4-4794-97d9-70bf8e6f4ddd"
      },
      "execution_count": null,
      "outputs": [
        {
          "output_type": "stream",
          "name": "stdout",
          "text": [
            "   fruits  price  quantity\n",
            "0   apple    100        15\n",
            "1  banana    200        10\n",
            "2  cherry    300        20\n",
            "3   lichi    400        30\n",
            "\n",
            "\n",
            "       fruits  price  quantity\n",
            "0        kiwi    400        40\n",
            "1      banana    200        10\n",
            "2      cherry    300        20\n",
            "3  watermelon    500        50\n"
          ]
        }
      ]
    },
    {
      "cell_type": "code",
      "source": [],
      "metadata": {
        "id": "e7FCIgavgh0E"
      },
      "execution_count": null,
      "outputs": []
    },
    {
      "cell_type": "code",
      "source": [
        "dd2 = {'name':['amir','jamir','hossain','rohaman','toamal'],\n",
        "       'roll':[1,2,3,4,5]}\n",
        "\n",
        "df = pd.DataFrame(dd2)\n",
        "\n",
        "print(df)\n",
        "                  ##### This is are method which ues for convert DataFrame to excel shit\n",
        "\n",
        "df.to_excel('df.xlsx')"
      ],
      "metadata": {
        "colab": {
          "base_uri": "https://localhost:8080/"
        },
        "id": "YiCDiFiFgiEu",
        "outputId": "82f94f16-fe4b-4b2b-e56e-5ae0a0e2562a"
      },
      "execution_count": null,
      "outputs": [
        {
          "output_type": "stream",
          "name": "stdout",
          "text": [
            "      name  roll\n",
            "0     amir     1\n",
            "1    jamir     2\n",
            "2  hossain     3\n",
            "3  rohaman     4\n",
            "4   toamal     5\n"
          ]
        }
      ]
    },
    {
      "cell_type": "code",
      "source": [
        "data = {'name':['name','kamal','hossain','rohaman','tamaim','tomal'],\n",
        "        'roll':[1,2,3,4,5,6]}\n",
        "\n",
        "\n",
        "df = pd.DataFrame(data)\n",
        "\n",
        "print(df)\n",
        "\n",
        "df['time']=[1,2,3,4,5,6]             ### Add new column in DataFrame\n",
        "\n",
        "\n",
        "print(df)"
      ],
      "metadata": {
        "id": "zQcOB_bEgiU8",
        "colab": {
          "base_uri": "https://localhost:8080/"
        },
        "outputId": "323d2c0d-8edf-4271-9b0e-5791610b7283"
      },
      "execution_count": null,
      "outputs": [
        {
          "output_type": "stream",
          "name": "stdout",
          "text": [
            "      name  roll\n",
            "0     name     1\n",
            "1    kamal     2\n",
            "2  hossain     3\n",
            "3  rohaman     4\n",
            "4   tamaim     5\n",
            "5    tomal     6\n",
            "      name  roll  time\n",
            "0     name     1     1\n",
            "1    kamal     2     2\n",
            "2  hossain     3     3\n",
            "3  rohaman     4     4\n",
            "4   tamaim     5     5\n",
            "5    tomal     6     6\n"
          ]
        }
      ]
    },
    {
      "cell_type": "code",
      "source": [],
      "metadata": {
        "id": "K9pITV7zn8rJ"
      },
      "execution_count": null,
      "outputs": []
    },
    {
      "cell_type": "code",
      "source": [
        "data = {\"fruits\":['apple','banana','cherry','lichi'],\n",
        "        'price':[100,200,300,400],\n",
        "        'quantity':[15,10,20,30]}\n",
        "\n",
        "df1 = pd.DataFrame(data)\n",
        "\n",
        "print(df1)\n",
        "\n",
        "df2 = df1.copy()\n",
        "\n",
        "df2.loc[4,'fruits'] = 'kiwi'\n",
        "df2.loc[4,'price'] = 500\n",
        "df2.loc[4,'quantity'] = 50                     ### Add new item with consider index number\n",
        "\n",
        "\n",
        "print()\n",
        "\n",
        "print()\n",
        "\n",
        "print(df2)"
      ],
      "metadata": {
        "colab": {
          "base_uri": "https://localhost:8080/"
        },
        "id": "Q0o0nlAPn5zu",
        "outputId": "dae7c8c3-aa2b-4b5f-b147-3481a2cc0877"
      },
      "execution_count": null,
      "outputs": [
        {
          "output_type": "stream",
          "name": "stdout",
          "text": [
            "   fruits  price  quantity\n",
            "0   apple    100        15\n",
            "1  banana    200        10\n",
            "2  cherry    300        20\n",
            "3   lichi    400        30\n",
            "\n",
            "\n",
            "   fruits  price  quantity\n",
            "0   apple  100.0      15.0\n",
            "1  banana  200.0      10.0\n",
            "2  cherry  300.0      20.0\n",
            "3   lichi  400.0      30.0\n",
            "4    kiwi  500.0      50.0\n"
          ]
        }
      ]
    },
    {
      "cell_type": "code",
      "source": [],
      "metadata": {
        "id": "GJvtM7FlgilD"
      },
      "execution_count": null,
      "outputs": []
    },
    {
      "cell_type": "code",
      "source": [
        "data = {'indx':[0,1,2,3],\n",
        "    \"fruits\":['apple','banana','cherry','lichi'],\n",
        "        'price':[100,200,300,400],\n",
        "        'quantity':[15,10,20,30]}\n",
        "\n",
        "df1 = pd.DataFrame(data)\n",
        "\n",
        "print(df1)\n",
        "\n",
        "df2 = df1[['indx','fruits','price']]   ### Its provide individual column wise result\n",
        "\n",
        "\n",
        "\n",
        "print(df2)\n",
        "\n"
      ],
      "metadata": {
        "colab": {
          "base_uri": "https://localhost:8080/"
        },
        "id": "fFxWniO8q630",
        "outputId": "ea8e90a4-2b90-408a-d8ef-407268393cf6"
      },
      "execution_count": null,
      "outputs": [
        {
          "output_type": "stream",
          "name": "stdout",
          "text": [
            "   indx  fruits  price  quantity\n",
            "0     0   apple    100        15\n",
            "1     1  banana    200        10\n",
            "2     2  cherry    300        20\n",
            "3     3   lichi    400        30\n",
            "   indx  fruits  price\n",
            "0     0   apple    100\n",
            "1     1  banana    200\n",
            "2     2  cherry    300\n",
            "3     3   lichi    400\n"
          ]
        }
      ]
    },
    {
      "cell_type": "code",
      "source": [
        "#### comapare with other DataFrame"
      ],
      "metadata": {
        "id": "uXuWYGZmq7Ix"
      },
      "execution_count": null,
      "outputs": []
    },
    {
      "cell_type": "code",
      "source": [
        "data = {\"fruits\":['apple','banana','cherry','lichi'],\n",
        "        'price':[100,200,300,400],\n",
        "        'quantity':[15,10,20,30]}\n",
        "\n",
        "df1 = pd.DataFrame(data)\n",
        "\n",
        "print(df1)\n",
        "\n",
        "df2 = df1.copy()\n",
        "\n",
        "df2.loc[0,'fruits'] = 'kiwi'\n",
        "df2.loc[3,'fruits'] = 'watermelon'\n",
        "df2.loc[0,'price'] = 400\n",
        "df2.loc[3,'price'] = 500\n",
        "df2.loc[0,'quantity'] = 40\n",
        "df2.loc[3,'quantity'] = 50\n",
        "\n",
        "print()\n",
        "\n",
        "print()\n",
        "\n",
        "print(df2)\n",
        "\n",
        "print()\n",
        "print()\n",
        "\n",
        "\n",
        "\n",
        "df3 = df1.compare(df2)\n",
        "print(df3)"
      ],
      "metadata": {
        "colab": {
          "base_uri": "https://localhost:8080/"
        },
        "id": "PLzNaU_4q7cQ",
        "outputId": "0162f197-bdf3-4655-b100-8e62273d3e3f"
      },
      "execution_count": null,
      "outputs": [
        {
          "output_type": "stream",
          "name": "stdout",
          "text": [
            "   fruits  price  quantity\n",
            "0   apple    100        15\n",
            "1  banana    200        10\n",
            "2  cherry    300        20\n",
            "3   lichi    400        30\n",
            "\n",
            "\n",
            "       fruits  price  quantity\n",
            "0        kiwi    400        40\n",
            "1      banana    200        10\n",
            "2      cherry    300        20\n",
            "3  watermelon    500        50\n",
            "\n",
            "\n",
            "  fruits              price        quantity      \n",
            "    self       other   self  other     self other\n",
            "0  apple        kiwi  100.0  400.0     15.0  40.0\n",
            "3  lichi  watermelon  400.0  500.0     30.0  50.0\n"
          ]
        }
      ]
    },
    {
      "cell_type": "code",
      "source": [
        "df3 = df1.compare(df2,align_axis=0)\n",
        "print(df3)"
      ],
      "metadata": {
        "colab": {
          "base_uri": "https://localhost:8080/"
        },
        "id": "HYckermRq7uY",
        "outputId": "c65ecd84-82c2-4b27-e3dc-48cb0bfcaa23"
      },
      "execution_count": null,
      "outputs": [
        {
          "output_type": "stream",
          "name": "stdout",
          "text": [
            "             fruits  price  quantity\n",
            "0 self        apple  100.0      15.0\n",
            "  other        kiwi  400.0      40.0\n",
            "3 self        lichi  400.0      30.0\n",
            "  other  watermelon  500.0      50.0\n"
          ]
        }
      ]
    },
    {
      "cell_type": "code",
      "source": [],
      "metadata": {
        "id": "os8xqDVuwzSy"
      },
      "execution_count": null,
      "outputs": []
    },
    {
      "cell_type": "code",
      "source": [
        "### Pivot"
      ],
      "metadata": {
        "id": "tBWguFu4wz2f"
      },
      "execution_count": null,
      "outputs": []
    },
    {
      "cell_type": "code",
      "source": [],
      "metadata": {
        "id": "qDpmXRpnw0gG"
      },
      "execution_count": null,
      "outputs": []
    },
    {
      "cell_type": "code",
      "source": [
        "dict = {'keys':['k1','k2','k1','k2'],\n",
        "        'names':['alom','namir','jamir','mohon'],\n",
        "        'houses':['red','blue','green','red'],\n",
        "        'no': [11,22,33,44],\n",
        "        'grades':['1st','2nd','3rd','4th']}\n",
        "\n",
        "\n",
        "\n",
        "df = pd.DataFrame(dict)\n",
        "print(df)\n",
        "\n",
        "print()\n",
        "print()\n",
        "\n",
        "k = df.pivot(index='keys',columns='names',values=['houses','no','grades'])  ### It exchange between row and column\n",
        "print(k)"
      ],
      "metadata": {
        "colab": {
          "base_uri": "https://localhost:8080/"
        },
        "id": "JgaqZ1dMw0On",
        "outputId": "f852aaa4-69c3-467f-d3da-310885918b5b"
      },
      "execution_count": null,
      "outputs": [
        {
          "output_type": "stream",
          "name": "stdout",
          "text": [
            "  keys  names houses  no grades\n",
            "0   k1   alom    red  11    1st\n",
            "1   k2  namir   blue  22    2nd\n",
            "2   k1  jamir  green  33    3rd\n",
            "3   k2  mohon    red  44    4th\n",
            "\n",
            "\n",
            "      houses                      no                   grades              \\\n",
            "names   alom  jamir mohon namir alom jamir mohon namir   alom jamir mohon   \n",
            "keys                                                                        \n",
            "k1       red  green   NaN   NaN   11    33   NaN   NaN    1st   3rd   NaN   \n",
            "k2       NaN    NaN   red  blue  NaN   NaN    44    22    NaN   NaN   4th   \n",
            "\n",
            "             \n",
            "names namir  \n",
            "keys         \n",
            "k1      NaN  \n",
            "k2      2nd  \n"
          ]
        }
      ]
    },
    {
      "cell_type": "code",
      "source": [],
      "metadata": {
        "id": "dOBOptMDw00P"
      },
      "execution_count": null,
      "outputs": []
    },
    {
      "cell_type": "code",
      "source": [
        "#### Melt DataFrame\n",
        "\n",
        "\n",
        "dict = {\n",
        "        'names':['alom','namir','jamir','mohon'],\n",
        "        'houses':['red','blue','green','red'],\n",
        "        'no': [11,22,33,44],\n",
        "        'grades':['1st','2nd','3rd','4th']}\n",
        "\n",
        "\n",
        "\n",
        "df = pd.DataFrame(dict)\n",
        "print(df)\n",
        "print()\n",
        "print()\n",
        "\n",
        "\n",
        "E = df.melt(id_vars=['names'],value_vars=['houses','grades'])\n",
        "print(E)  #### create variable\n"
      ],
      "metadata": {
        "colab": {
          "base_uri": "https://localhost:8080/"
        },
        "id": "PD9pTaQcw1LO",
        "outputId": "5732793e-c62d-4bef-d030-69623264e6ec"
      },
      "execution_count": null,
      "outputs": [
        {
          "output_type": "stream",
          "name": "stdout",
          "text": [
            "   names houses  no grades\n",
            "0   alom    red  11    1st\n",
            "1  namir   blue  22    2nd\n",
            "2  jamir  green  33    3rd\n",
            "3  mohon    red  44    4th\n",
            "\n",
            "\n",
            "   names variable  value\n",
            "0   alom   houses    red\n",
            "1  namir   houses   blue\n",
            "2  jamir   houses  green\n",
            "3  mohon   houses    red\n",
            "4   alom   grades    1st\n",
            "5  namir   grades    2nd\n",
            "6  jamir   grades    3rd\n",
            "7  mohon   grades    4th\n"
          ]
        }
      ]
    },
    {
      "cell_type": "code",
      "source": [
        "E = df.melt(id_vars=['names'],value_vars=['houses','grades'],var_name='housesandgrades',\n",
        "            value_name='valuse')\n",
        "print(E)  #### change variable name\n",
        "\n",
        "\n"
      ],
      "metadata": {
        "colab": {
          "base_uri": "https://localhost:8080/"
        },
        "id": "mM6RS9EGw1iu",
        "outputId": "c331e245-cdae-4a71-8c8d-d988b26dff60"
      },
      "execution_count": null,
      "outputs": [
        {
          "output_type": "stream",
          "name": "stdout",
          "text": [
            "   names housesandgrades valuse\n",
            "0   alom          houses    red\n",
            "1  namir          houses   blue\n",
            "2  jamir          houses  green\n",
            "3  mohon          houses    red\n",
            "4   alom          grades    1st\n",
            "5  namir          grades    2nd\n",
            "6  jamir          grades    3rd\n",
            "7  mohon          grades    4th\n"
          ]
        }
      ]
    }
  ]
}